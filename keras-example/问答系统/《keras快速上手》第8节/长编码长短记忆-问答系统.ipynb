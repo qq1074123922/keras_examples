{
 "cells": [
  {
   "cell_type": "markdown",
   "metadata": {},
   "source": [
    "> 回来准备在服务器上怕一下改程序，这里的内存不够大，或者尝试分布式读取"
   ]
  },
  {
   "cell_type": "markdown",
   "metadata": {},
   "source": [
    "> 下面有两个batch_gennerator的函数，看一下是否只需要跑一个程序，还是需要用到两个？"
   ]
  },
  {
   "cell_type": "code",
   "execution_count": 2,
   "metadata": {
    "collapsed": true
   },
   "outputs": [],
   "source": [
    "import numpy as np\n",
    "import pickle"
   ]
  },
  {
   "cell_type": "code",
   "execution_count": 10,
   "metadata": {
    "collapsed": true
   },
   "outputs": [],
   "source": [
    "# data generator function\n",
    "def batch_generator(X, max_length=20, batch_size=1):\n",
    "    number_of_batches = samples_per_epoch/batch_size\n",
    "    counter=0\n",
    "    shuffle_index = np.arange(len(X))\n",
    "    np.random.shuffle(shuffle_index)\n",
    "    X = X[shuffle_index, :]\n",
    "    \n",
    "    while 1:\n",
    "        index_batch = shuffle_index[batch_size*counter:batch_size*(counter+1)]\n",
    "        Xtemp = [].extend(X[index_batch])\n",
    "        status = np.sum([isinstance(e, list) for e in Xtemp])\n",
    "        if (status==0):\n",
    "            Xtemp = [Xtemp]\n",
    "        X_batch = pad_sequences(Xtemp, maxlen=max_length)\n",
    "        X_res = np.zeros((np.shape(X_batch)[0], maxlen, max_length), dtype=np.int)\n",
    "        for k in np.range(np.shape(X_batch)[0]):\n",
    "            X_res[k, 0, :] = X_batch[k, :]\n",
    "            counter += 1\n",
    "            yield(X_res)\n",
    "            if (counter < number_of_batches):\n",
    "                np.random.shuffle(shuffle_index)\n",
    "                counter=0\n"
   ]
  },
  {
   "cell_type": "code",
   "execution_count": null,
   "metadata": {
    "collapsed": true
   },
   "outputs": [],
   "source": [
    "# read in Ubuntu forum conversation pickle file\n",
    "with open(\"dataset.pkl\", \"rb\") as f:\n",
    "    data = pickle.load(f,encoding='utf-8')"
   ]
  },
  {
   "cell_type": "code",
   "execution_count": 3,
   "metadata": {},
   "outputs": [
    {
     "ename": "NameError",
     "evalue": "name 'data' is not defined",
     "output_type": "error",
     "traceback": [
      "\u001b[0;31m---------------------------------------------------------------------------\u001b[0m",
      "\u001b[0;31mNameError\u001b[0m                                 Traceback (most recent call last)",
      "\u001b[0;32m<ipython-input-3-f6ea9d7d6b09>\u001b[0m in \u001b[0;36m<module>\u001b[0;34m()\u001b[0m\n\u001b[1;32m      4\u001b[0m \u001b[1;32mfrom\u001b[0m \u001b[0mkeras\u001b[0m\u001b[1;33m.\u001b[0m\u001b[0mlayers\u001b[0m \u001b[1;32mimport\u001b[0m \u001b[0mInput\u001b[0m\u001b[1;33m,\u001b[0m \u001b[0mDense\u001b[0m\u001b[1;33m,\u001b[0m \u001b[0mEmbedding\u001b[0m\u001b[1;33m,\u001b[0m \u001b[0mReshape\u001b[0m\u001b[1;33m,\u001b[0m \u001b[0mDot\u001b[0m\u001b[1;33m,\u001b[0m \u001b[0mConcatenate\u001b[0m\u001b[1;33m,\u001b[0m \u001b[0mMultiply\u001b[0m\u001b[1;33m,\u001b[0m \u001b[0mMerge\u001b[0m\u001b[1;33m\u001b[0m\u001b[0m\n\u001b[1;32m      5\u001b[0m \u001b[1;33m\u001b[0m\u001b[0m\n\u001b[0;32m----> 6\u001b[0;31m \u001b[0mcontext_length\u001b[0m\u001b[1;33m=\u001b[0m\u001b[0mnp\u001b[0m\u001b[1;33m.\u001b[0m\u001b[0mmax\u001b[0m\u001b[1;33m(\u001b[0m\u001b[0mlist\u001b[0m\u001b[1;33m(\u001b[0m\u001b[0mmap\u001b[0m\u001b[1;33m(\u001b[0m\u001b[0mlen\u001b[0m\u001b[1;33m,\u001b[0m \u001b[0mdata\u001b[0m\u001b[1;33m[\u001b[0m\u001b[1;36m0\u001b[0m\u001b[1;33m]\u001b[0m\u001b[1;33m[\u001b[0m\u001b[1;34m'c'\u001b[0m\u001b[1;33m]\u001b[0m\u001b[1;33m)\u001b[0m\u001b[1;33m)\u001b[0m\u001b[1;33m)\u001b[0m\u001b[1;33m\u001b[0m\u001b[0m\n\u001b[0m\u001b[1;32m      7\u001b[0m \u001b[1;31m#print(context_length)\u001b[0m\u001b[1;33m\u001b[0m\u001b[1;33m\u001b[0m\u001b[0m\n\u001b[1;32m      8\u001b[0m \u001b[0mresponse_length\u001b[0m\u001b[1;33m=\u001b[0m\u001b[0mnp\u001b[0m\u001b[1;33m.\u001b[0m\u001b[0mmax\u001b[0m\u001b[1;33m(\u001b[0m\u001b[0mlist\u001b[0m\u001b[1;33m(\u001b[0m \u001b[0mmap\u001b[0m\u001b[1;33m(\u001b[0m\u001b[0mlen\u001b[0m\u001b[1;33m,\u001b[0m \u001b[0mdata\u001b[0m\u001b[1;33m[\u001b[0m\u001b[1;36m0\u001b[0m\u001b[1;33m]\u001b[0m\u001b[1;33m[\u001b[0m\u001b[1;34m'r'\u001b[0m\u001b[1;33m]\u001b[0m\u001b[1;33m)\u001b[0m\u001b[1;33m)\u001b[0m\u001b[1;33m)\u001b[0m\u001b[1;33m\u001b[0m\u001b[0m\n",
      "\u001b[0;31mNameError\u001b[0m: name 'data' is not defined"
     ]
    }
   ],
   "source": [
    "# Load libraries\n",
    "import keras\n",
    "from keras.models import Model\n",
    "from keras.layers import Input, Dense, Embedding, Reshape, Dot, Concatenate, Multiply, Merge\n",
    "\n",
    "context_length=np.max(list(map(len, data[0]['c'])))\n",
    "#print(context_length)\n",
    "response_length=np.max(list( map(len, data[0]['r'])))\n",
    "#print(response_length)\n",
    "# we can also set contenxt length to a shorter one\n",
    "context_length=120\n",
    "\n",
    "# dual encoder LSTM\t\n",
    "context_size = np.max(list(map(lambda x:  max(x) if len(x)>0 else 0, data[0]['c'])))\n",
    "response_size = max(list(map(lambda x:  max(x) if len(x)>0 else 0, data[0]['r'])))\n",
    "volcabulary_size=max(context_size, response_size)\n",
    "\n",
    "embedding_dim=64\n",
    "lstm_dim=64\n",
    "\n",
    "response_length=120\n",
    "response=Input(shape=((response_length,)), dtype='Int32', name='response_input')\n",
    "response_embedded=Embedding(input_length=response_length, output_dim=embedding_dim, input_dim=volcabulary_size)(response)\n",
    "response_lstm=LSTM(lstm_dim)(response_embedded)\n",
    "\n",
    "context_length=120\n",
    "context=Input(shape=((context_length,)), dtype='Int32', name='response_input')\n",
    "context_embedded=Embedding(input_length=context_length, output_dim=embedding_dim, input_dim=volcabulary_size)(context)\n",
    "context_lstm=LSTM(lstm_dim)(context)\n",
    "\n",
    "\n",
    "x = Multiply()([context_lstm, response_lstm])\n",
    "yhat = Dense(2, activation='softmax')(x)\n",
    "model = Model(inputs=[context, response], outputs=yhat)\n",
    "\n",
    "model.compile(optimizer='rmsprop',loss='binary_crossentropy',metrics=['accuracy'])\n",
    "model.summary()"
   ]
  },
  {
   "cell_type": "code",
   "execution_count": null,
   "metadata": {
    "collapsed": true
   },
   "outputs": [],
   "source": [
    "\n",
    "# data generators so that the model can run on regular PC\n",
    "def data_gen(data, batch_size=100):\n",
    "\tfrom keras.preprocessing.sequence import pad_sequences\n",
    "\tcontextRaw = data['c']\n",
    "\tresponseRaw = data['r']\n",
    "\tyRaw = data['y']\n",
    "    \n",
    "\tnumber_of_batches = len(contextRaw) # batch_size\n",
    "\tcounter=0\n",
    "    \n",
    "\tcontext_length=np.max(list(map(len, contextRaw)))#3    \n",
    "\tresponse_length=np.max(list( map(len, responseRaw)))#3\n",
    "    \n",
    "\tcontext_length=120\n",
    "\tresponse_length=120\n",
    "\n",
    "\twhile 1:   \t \n",
    "    \tlowerBound = batch_size*counter\n",
    "    \tupperBound = batch_size*(counter+1)\n",
    "    \tCtemp = contextRaw[lowerBound : upperBound]\n",
    "    \tC_batch = pad_sequences(Ctemp, maxlen=context_length, padding='post')\n",
    "    \tC_res = np.zeros((batch_size, context_length), dtype=np.int)\n",
    "   \t \n",
    "    \tRtemp = responseRaw[lowerBound : upperBound]\n",
    "    \tR_batch = pad_sequences(Rtemp, maxlen=response_length, padding='post')\n",
    "    \tR_res = np.zeros((batch_size, response_length), dtype=np.int)\n",
    "    \tfor k in np.arange(batch_size):\n",
    "        \tC_res[k, :] = C_batch[k, :]\n",
    "        \tR_res[k, :] = R_batch[k, :]\n",
    "    \ty_res= keras.utils.to_categorical(yRaw[lowerBound : upperBound])\n",
    "    \tcounter += 1\n",
    "    \tyield([C_res.astype('float32'), R_res.astype('float32')], y_res.astype('float32'))\n",
    "    \tif (counter < number_of_batches):       \t \n",
    "        \t\tcounter=0        \t\n",
    "\n",
    "# Now run the model\n",
    "batch_size=100\n",
    "model.fit_generator(data_gen(data[0], batch_size=batch_size), steps_per_epoch=len(data[0]['c']),epochs=1)#batch_size,\n"
   ]
  },
  {
   "cell_type": "code",
   "execution_count": null,
   "metadata": {
    "collapsed": true
   },
   "outputs": [],
   "source": [
    "# This is evaluation function\n",
    "def recall(ypred, yactual, N=1):\n",
    "    num_examples = float(len(y))\n",
    "    num_correct = 0\n",
    "    for predictions, actual in zip(ypred, yactual):\n",
    "        if label in predictions[:N]:\n",
    "            num_correct += 1\n",
    "        return num_correct/num_examples"
   ]
  }
 ],
 "metadata": {
  "kernelspec": {
   "display_name": "Python 3",
   "language": "python",
   "name": "python3"
  },
  "language_info": {
   "codemirror_mode": {
    "name": "ipython",
    "version": 3
   },
   "file_extension": ".py",
   "mimetype": "text/x-python",
   "name": "python",
   "nbconvert_exporter": "python",
   "pygments_lexer": "ipython3",
   "version": "3.6.0"
  },
  "toc": {
   "colors": {
    "hover_highlight": "#DAA520",
    "navigate_num": "#000000",
    "navigate_text": "#333333",
    "running_highlight": "#FF0000",
    "selected_highlight": "#FFD700",
    "sidebar_border": "#EEEEEE",
    "wrapper_background": "#FFFFFF"
   },
   "moveMenuLeft": true,
   "nav_menu": {
    "height": "12px",
    "width": "252px"
   },
   "navigate_menu": true,
   "number_sections": true,
   "sideBar": true,
   "threshold": 4,
   "toc_cell": false,
   "toc_section_display": "block",
   "toc_window_display": false,
   "widenNotebook": false
  }
 },
 "nbformat": 4,
 "nbformat_minor": 2
}
