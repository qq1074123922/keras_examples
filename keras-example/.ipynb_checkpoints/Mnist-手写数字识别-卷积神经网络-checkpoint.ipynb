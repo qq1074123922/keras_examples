{
 "cells": [
  {
   "cell_type": "code",
   "execution_count": 1,
   "metadata": {
    "scrolled": true
   },
   "outputs": [
    {
     "name": "stderr",
     "output_type": "stream",
     "text": [
      "Using Theano backend.\n"
     ]
    }
   ],
   "source": [
    "import keras\n",
    "#已经成功安装，以前没有安装成功是因为没有安装完全"
   ]
  },
  {
   "cell_type": "code",
   "execution_count": 2,
   "metadata": {},
   "outputs": [
    {
     "name": "stderr",
     "output_type": "stream",
     "text": [
      "Using Theano backend.\n"
     ]
    }
   ],
   "source": [
    "import numpy  as np\n",
    "from keras.models import Sequential\n",
    "from keras.layers import Dense, Dropout, Activation\n",
    "from keras.optimizers import SGD\n",
    "from keras.utils import to_categorical"
   ]
  },
  {
   "cell_type": "code",
   "execution_count": 3,
   "metadata": {},
   "outputs": [],
   "source": [
    "data=np.load('mnist.npz')\n",
    "#直接将数据导入，存在变量data中\n",
    "#这个数据集需要自己下载好，\n"
   ]
  },
  {
   "cell_type": "markdown",
   "metadata": {},
   "source": [
    ">`NpzFile` is used to load files in the NumPy ``.npz`` data archive\n",
    "format. It assumes that files in the archive have a ``.npy`` extension,\n",
    "other files are ignored."
   ]
  },
  {
   "cell_type": "code",
   "execution_count": 4,
   "metadata": {
    "collapsed": true
   },
   "outputs": [],
   "source": [
    "data?"
   ]
  },
  {
   "cell_type": "markdown",
   "metadata": {},
   "source": [
    "可以通过查看data的属性来了解数据"
   ]
  },
  {
   "cell_type": "code",
   "execution_count": 4,
   "metadata": {},
   "outputs": [
    {
     "data": {
      "text/plain": [
       "['x_test', 'x_train', 'y_train', 'y_test']"
      ]
     },
     "execution_count": 4,
     "metadata": {},
     "output_type": "execute_result"
    }
   ],
   "source": [
    "data.files"
   ]
  },
  {
   "cell_type": "code",
   "execution_count": 5,
   "metadata": {},
   "outputs": [
    {
     "name": "stdout",
     "output_type": "stream",
     "text": [
      "x_train的大小是 (60000, 28, 28)\n"
     ]
    },
    {
     "data": {
      "text/plain": [
       "(60000, 28, 28)"
      ]
     },
     "execution_count": 5,
     "metadata": {},
     "output_type": "execute_result"
    }
   ],
   "source": [
    "print('x_train的大小是',data['x_train'].shape)\n",
    "data['x_train'].shape\n"
   ]
  },
  {
   "cell_type": "code",
   "execution_count": 8,
   "metadata": {
    "collapsed": true
   },
   "outputs": [],
   "source": [
    "x_test=data['x_test']\n",
    "x_train=data['x_train']\n",
    "y_train=data['y_train']\n",
    "y_test=data['y_test']"
   ]
  },
  {
   "cell_type": "code",
   "execution_count": 9,
   "metadata": {},
   "outputs": [
    {
     "data": {
      "text/plain": [
       "(60000, 28, 28)"
      ]
     },
     "execution_count": 9,
     "metadata": {},
     "output_type": "execute_result"
    }
   ],
   "source": [
    "x_train.shape\n",
    "#由于图像是一个二维的张量，所以要么通过卷积层输入，要么通过将数据扁平化转化成一个一维张量（向量）输入到模型中"
   ]
  },
  {
   "cell_type": "code",
   "execution_count": 31,
   "metadata": {
    "collapsed": true
   },
   "outputs": [],
   "source": [
    "x_train=x_train.reshape(60000,784)#28*28=784\n",
    "x_test=x_test.reshape(10000,784)"
   ]
  },
  {
   "cell_type": "code",
   "execution_count": 33,
   "metadata": {
    "collapsed": true
   },
   "outputs": [],
   "source": [
    "#接下来再将x_train和x_test数据格式转换为float32存储，并进行归一化处理\n",
    "x_train=x_train.astype('float32')\n",
    "x_test=x_test.astype('float32')\n",
    "x_train/=255\n",
    "x_test/=255"
   ]
  },
  {
   "cell_type": "code",
   "execution_count": 34,
   "metadata": {
    "collapsed": true
   },
   "outputs": [],
   "source": [
    "#将类别向量映射为二值类别矩阵，相当于将向量用one-hot进行编码\n",
    "y_train=to_categorical(y_train,10)\n",
    "y_test=to_categorical(y_test,10)"
   ]
  },
  {
   "cell_type": "code",
   "execution_count": 35,
   "metadata": {
    "collapsed": true
   },
   "outputs": [],
   "source": [
    "#开始构建序列模型\n",
    "model = Sequential()\n",
    "# Dense(64) is a fully-connected layer with 64 hidden units.\n",
    "# in the first layer, you must specify the expected input data shape:\n",
    "# here, 20-dimensional vectors.\n",
    "model.add(Dense(64, activation='relu', input_dim=784))\n",
    "#model.add(Dropout(0.5))\n",
    "model.add(Dense(64, activation='relu'))\n",
    "#model.add(Dropout(0.5))\n",
    "model.add(Dense(10, activation='softmax'))\n",
    "\n",
    "sgd = SGD(lr=0.01, decay=1e-6, momentum=0.9, nesterov=True)\n",
    "model.compile(loss='categorical_crossentropy',optimizer=sgd, metrics=['accuracy'])\n"
   ]
  },
  {
   "cell_type": "code",
   "execution_count": 36,
   "metadata": {},
   "outputs": [
    {
     "name": "stdout",
     "output_type": "stream",
     "text": [
      "_________________________________________________________________\n",
      "Layer (type)                 Output Shape              Param #   \n",
      "=================================================================\n",
      "dense_7 (Dense)              (None, 64)                50240     \n",
      "_________________________________________________________________\n",
      "dense_8 (Dense)              (None, 64)                4160      \n",
      "_________________________________________________________________\n",
      "dense_9 (Dense)              (None, 10)                650       \n",
      "=================================================================\n",
      "Total params: 55,050\n",
      "Trainable params: 55,050\n",
      "Non-trainable params: 0\n",
      "_________________________________________________________________\n",
      "None\n"
     ]
    }
   ],
   "source": [
    "print(model.summary())"
   ]
  },
  {
   "cell_type": "code",
   "execution_count": 37,
   "metadata": {},
   "outputs": [
    {
     "name": "stdout",
     "output_type": "stream",
     "text": [
      "Epoch 1/20\n",
      "60000/60000 [==============================] - 2s - loss: 0.4959 - acc: 0.8594     \n",
      "Epoch 2/20\n",
      "60000/60000 [==============================] - 2s - loss: 0.2332 - acc: 0.9324     \n",
      "Epoch 3/20\n",
      "60000/60000 [==============================] - 2s - loss: 0.1794 - acc: 0.9479     \n",
      "Epoch 4/20\n",
      "60000/60000 [==============================] - 2s - loss: 0.1484 - acc: 0.9569     \n",
      "Epoch 5/20\n",
      "60000/60000 [==============================] - 2s - loss: 0.1268 - acc: 0.9638     \n",
      "Epoch 6/20\n",
      "60000/60000 [==============================] - 2s - loss: 0.1100 - acc: 0.9679     \n",
      "Epoch 7/20\n",
      "60000/60000 [==============================] - 2s - loss: 0.0974 - acc: 0.9717     \n",
      "Epoch 8/20\n",
      "60000/60000 [==============================] - 2s - loss: 0.0879 - acc: 0.9748     \n",
      "Epoch 9/20\n",
      "60000/60000 [==============================] - 2s - loss: 0.0790 - acc: 0.9775     \n",
      "Epoch 10/20\n",
      "60000/60000 [==============================] - 3s - loss: 0.0715 - acc: 0.9789     \n",
      "Epoch 11/20\n",
      "60000/60000 [==============================] - 3s - loss: 0.0657 - acc: 0.9806     \n",
      "Epoch 12/20\n",
      "60000/60000 [==============================] - 3s - loss: 0.0599 - acc: 0.9822     \n",
      "Epoch 13/20\n",
      "60000/60000 [==============================] - 2s - loss: 0.0560 - acc: 0.9839     \n",
      "Epoch 14/20\n",
      "60000/60000 [==============================] - 2s - loss: 0.0510 - acc: 0.9849     \n",
      "Epoch 15/20\n",
      "60000/60000 [==============================] - 2s - loss: 0.0472 - acc: 0.9865     \n",
      "Epoch 16/20\n",
      "60000/60000 [==============================] - 3s - loss: 0.0440 - acc: 0.9868     \n",
      "Epoch 17/20\n",
      "60000/60000 [==============================] - 4s - loss: 0.0400 - acc: 0.9881     \n",
      "Epoch 18/20\n",
      "60000/60000 [==============================] - 3s - loss: 0.0374 - acc: 0.9895     \n",
      "Epoch 19/20\n",
      "60000/60000 [==============================] - 3s - loss: 0.0353 - acc: 0.9900     \n",
      "Epoch 20/20\n",
      "60000/60000 [==============================] - 2s - loss: 0.0318 - acc: 0.9910     \n"
     ]
    },
    {
     "data": {
      "text/plain": [
       "<keras.callbacks.History at 0xbee2ef0>"
      ]
     },
     "execution_count": 37,
     "metadata": {},
     "output_type": "execute_result"
    }
   ],
   "source": [
    "model.fit(x_train, y_train,epochs=20,batch_size=128)"
   ]
  },
  {
   "cell_type": "code",
   "execution_count": 38,
   "metadata": {},
   "outputs": [
    {
     "name": "stdout",
     "output_type": "stream",
     "text": [
      " 7808/10000 [======================>.......] - ETA: 0s[0.085470698284544053, 0.97360000000000002]\n"
     ]
    }
   ],
   "source": [
    "score = model.evaluate(x_test, y_test, batch_size=128)\n",
    "print(score)#把最终的结果打印出来"
   ]
  },
  {
   "cell_type": "code",
   "execution_count": null,
   "metadata": {
    "collapsed": true
   },
   "outputs": [],
   "source": []
  }
 ],
 "metadata": {
  "kernelspec": {
   "display_name": "Python 3",
   "language": "python",
   "name": "python3"
  },
  "language_info": {
   "codemirror_mode": {
    "name": "ipython",
    "version": 3
   },
   "file_extension": ".py",
   "mimetype": "text/x-python",
   "name": "python",
   "nbconvert_exporter": "python",
   "pygments_lexer": "ipython3",
   "version": "3.6.0"
  },
  "toc": {
   "colors": {
    "hover_highlight": "#DAA520",
    "navigate_num": "#000000",
    "navigate_text": "#333333",
    "running_highlight": "#FF0000",
    "selected_highlight": "#FFD700",
    "sidebar_border": "#EEEEEE",
    "wrapper_background": "#FFFFFF"
   },
   "moveMenuLeft": true,
   "nav_menu": {
    "height": "12px",
    "width": "252px"
   },
   "navigate_menu": true,
   "number_sections": true,
   "sideBar": true,
   "threshold": 4,
   "toc_cell": false,
   "toc_section_display": "block",
   "toc_window_display": false,
   "widenNotebook": false
  }
 },
 "nbformat": 4,
 "nbformat_minor": 2
}
