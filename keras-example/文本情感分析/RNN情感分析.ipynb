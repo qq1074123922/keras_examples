{
 "cells": [
  {
   "cell_type": "code",
   "execution_count": 1,
   "metadata": {
    "collapsed": true
   },
   "outputs": [],
   "source": [
    "import numpy as np"
   ]
  },
  {
   "cell_type": "code",
   "execution_count": 2,
   "metadata": {
    "collapsed": true
   },
   "outputs": [],
   "source": [
    "res=np.load('imdb.npz')\n",
    "#将训练数据和测试数据加载进来\n",
    "x_train=res['x_train']\n",
    "y_train=res['y_train']\n",
    "x_test=res['x_test']\n",
    "y_test=res['y_test']\n",
    "#将数据分好"
   ]
  },
  {
   "cell_type": "code",
   "execution_count": 3,
   "metadata": {},
   "outputs": [
    {
     "name": "stdout",
     "output_type": "stream",
     "text": [
      "237.71364\n"
     ]
    },
    {
     "data": {
      "image/png": "[encoded data removed]",
      "text/plain": [
       "<matplotlib.figure.Figure at 0x117033ac8>"
      ]
     },
     "metadata": {},
     "output_type": "display_data"
    }
   ],
   "source": [
    "avg_len = list(map(len, x_train))\n",
    "print(np.mean(avg_len))\n",
    "\n",
    "\n",
    "import matplotlib.pyplot as plt\n",
    "plt.hist(avg_len, bins = range(min(avg_len), max(avg_len) + 50, 50))\n",
    "plt.show()\n",
    "#做一个统计，看一下一个评论都有几个词，一个评论平均有237个词语"
   ]
  },
  {
   "cell_type": "code",
   "execution_count": 12,
   "metadata": {},
   "outputs": [],
   "source": [
    "from keras.layers import Dense, Dropout, Activation, Flatten\n",
    "from keras.layers import Conv1D, MaxPooling1D\n",
    "from keras.models import Sequential\n",
    "from keras.layers.embeddings import Embedding\n",
    "from keras.preprocessing import sequence"
   ]
  },
  {
   "cell_type": "code",
   "execution_count": 13,
   "metadata": {},
   "outputs": [],
   "source": [
    "maxword = 400\n",
    "x_train_pad = sequence.pad_sequences(x_train, maxlen = maxword)\n",
    "x_test_pad = sequence.pad_sequences(x_test, maxlen = maxword)\n",
    "vocab_size = np.max([np.max(x_train_pad[i]) for i in range(x_train_pad.shape[0])]) + 1\n",
    "\n",
    "#由于我们的评论所包含的单词有多有少，所以需要统一一下单词个数，这里确定统一的单词个数为400个，少了补，多了删除。"
   ]
  },
  {
   "cell_type": "code",
   "execution_count": 14,
   "metadata": {},
   "outputs": [],
   "source": [
    "model = Sequential()\n",
    "model.add(Embedding(vocab_size, 64, input_length = maxword))"
   ]
  },
  {
   "cell_type": "code",
   "execution_count": 15,
   "metadata": {
    "collapsed": true
   },
   "outputs": [],
   "source": [
    "model.add(Conv1D(filters = 64, kernel_size = 3, padding = 'same', activation= 'relu'))\n",
    "model.add(MaxPooling1D(pool_size = 2))\n",
    "model.add(Dropout(0.25))\n",
    "model.add(Conv1D(filters = 128, kernel_size = 3, padding = 'same',activation= 'relu'))\n",
    "model.add(MaxPooling1D(pool_size = 2))\n",
    "model.add(Dropout(0.25))"
   ]
  },
  {
   "cell_type": "code",
   "execution_count": 16,
   "metadata": {},
   "outputs": [
    {
     "name": "stdout",
     "output_type": "stream",
     "text": [
      "_________________________________________________________________\n",
      "Layer (type)                 Output Shape              Param #   \n",
      "=================================================================\n",
      "embedding_1 (Embedding)      (None, 400, 64)           5669440   \n",
      "_________________________________________________________________\n",
      "conv1d_1 (Conv1D)            (None, 400, 64)           12352     \n",
      "_________________________________________________________________\n",
      "max_pooling1d_1 (MaxPooling1 (None, 200, 64)           0         \n",
      "_________________________________________________________________\n",
      "dropout_1 (Dropout)          (None, 200, 64)           0         \n",
      "_________________________________________________________________\n",
      "conv1d_2 (Conv1D)            (None, 200, 128)          24704     \n",
      "_________________________________________________________________\n",
      "max_pooling1d_2 (MaxPooling1 (None, 100, 128)          0         \n",
      "_________________________________________________________________\n",
      "dropout_2 (Dropout)          (None, 100, 128)          0         \n",
      "_________________________________________________________________\n",
      "flatten_1 (Flatten)          (None, 12800)             0         \n",
      "_________________________________________________________________\n",
      "dense_1 (Dense)              (None, 64)                819264    \n",
      "_________________________________________________________________\n",
      "dense_2 (Dense)              (None, 32)                2080      \n",
      "_________________________________________________________________\n",
      "dense_3 (Dense)              (None, 1)                 33        \n",
      "=================================================================\n",
      "Total params: 6,527,873\n",
      "Trainable params: 6,527,873\n",
      "Non-trainable params: 0\n",
      "_________________________________________________________________\n",
      "None\n"
     ]
    }
   ],
   "source": [
    "\n",
    "model.add(Flatten())\n",
    "model.add(Dense(64, activation = 'relu'))\n",
    "model.add(Dense(32, activation = 'relu'))\n",
    "model.add(Dense(1, activation = 'sigmoid'))\n",
    "model.compile(loss = 'binary_crossentropy', optimizer = 'rmsprop', metrics =['accuracy'])\n",
    "print(model.summary())\n"
   ]
  },
  {
   "cell_type": "code",
   "execution_count": 20,
   "metadata": {},
   "outputs": [
    {
     "name": "stdout",
     "output_type": "stream",
     "text": [
      "Train on 25000 samples, validate on 25000 samples\n",
      "Epoch 1/20\n",
      "25000/25000 [==============================] - 183s - loss: 0.1421 - acc: 0.9484 - val_loss: 0.3412 - val_acc: 0.8710\n",
      "Epoch 2/20\n",
      "25000/25000 [==============================] - 206s - loss: 0.0966 - acc: 0.9669 - val_loss: 0.4647 - val_acc: 0.8401\n",
      "Epoch 3/20\n",
      "25000/25000 [==============================] - 228s - loss: 0.0671 - acc: 0.9778 - val_loss: 0.3796 - val_acc: 0.8732\n",
      "Epoch 4/20\n",
      "25000/25000 [==============================] - 224s - loss: 0.0470 - acc: 0.9841 - val_loss: 0.5983 - val_acc: 0.8397\n",
      "Epoch 5/20\n",
      "25000/25000 [==============================] - 209s - loss: 0.0313 - acc: 0.9894 - val_loss: 0.5317 - val_acc: 0.8675\n",
      "Epoch 6/20\n",
      "25000/25000 [==============================] - 213s - loss: 0.0179 - acc: 0.9948 - val_loss: 0.6034 - val_acc: 0.8643\n",
      "Epoch 7/20\n",
      "25000/25000 [==============================] - 188s - loss: 0.0127 - acc: 0.9962 - val_loss: 0.8952 - val_acc: 0.8501\n",
      "Epoch 8/20\n",
      "25000/25000 [==============================] - 204s - loss: 0.0090 - acc: 0.9980 - val_loss: 0.8904 - val_acc: 0.8588\n",
      "Epoch 9/20\n",
      "25000/25000 [==============================] - 196s - loss: 0.0078 - acc: 0.9984 - val_loss: 1.0770 - val_acc: 0.8484\n",
      "Epoch 10/20\n",
      "25000/25000 [==============================] - 213s - loss: 0.0094 - acc: 0.9984 - val_loss: 1.0877 - val_acc: 0.8559\n",
      "Epoch 11/20\n",
      "25000/25000 [==============================] - 204s - loss: 0.0055 - acc: 0.9990 - val_loss: 1.3239 - val_acc: 0.8561\n",
      "Epoch 12/20\n",
      "25000/25000 [==============================] - 212s - loss: 0.0041 - acc: 0.9995 - val_loss: 1.5148 - val_acc: 0.8557\n",
      "Epoch 13/20\n",
      "25000/25000 [==============================] - 203s - loss: 0.0013 - acc: 0.9997 - val_loss: 1.5753 - val_acc: 0.8566\n",
      "Epoch 14/20\n",
      "25000/25000 [==============================] - 188s - loss: 0.0058 - acc: 0.9992 - val_loss: 1.5797 - val_acc: 0.8536\n",
      "Epoch 15/20\n",
      "25000/25000 [==============================] - 187s - loss: 3.8290e-04 - acc: 0.9999 - val_loss: 1.6070 - val_acc: 0.8580\n",
      "Epoch 16/20\n",
      "25000/25000 [==============================] - 188s - loss: 0.0036 - acc: 0.9995 - val_loss: 1.6709 - val_acc: 0.8550\n",
      "Epoch 17/20\n",
      "25000/25000 [==============================] - 196s - loss: 0.0042 - acc: 0.9996 - val_loss: 1.7823 - val_acc: 0.8516\n",
      "Epoch 18/20\n",
      "25000/25000 [==============================] - 205s - loss: 0.0013 - acc: 0.9997 - val_loss: 1.7367 - val_acc: 0.8550\n",
      "Epoch 19/20\n",
      "25000/25000 [==============================] - 202s - loss: 0.0034 - acc: 0.9997 - val_loss: 1.7238 - val_acc: 0.8586\n",
      "Epoch 20/20\n",
      "25000/25000 [==============================] - 199s - loss: 0.0012 - acc: 0.9998 - val_loss: 1.7967 - val_acc: 0.8545\n"
     ]
    },
    {
     "data": {
      "text/plain": [
       "<keras.callbacks.History at 0x138c39860>"
      ]
     },
     "execution_count": 20,
     "metadata": {},
     "output_type": "execute_result"
    }
   ],
   "source": [
    "model.fit(x_train_pad, y_train, validation_data = (x_test_pad, y_test), epochs = 20, batch_size = 100)"
   ]
  },
  {
   "cell_type": "code",
   "execution_count": 23,
   "metadata": {},
   "outputs": [
    {
     "name": "stdout",
     "output_type": "stream",
     "text": [
      "24992/25000 [============================>.] - ETA: 0s[1.7966678818082193, 0.85448000000000002]\n"
     ]
    }
   ],
   "source": [
    "scores = model.evaluate(x_test_pad, y_test, verbose = 1)\n",
    "print(scores)"
   ]
  },
  {
   "cell_type": "code",
   "execution_count": 24,
   "metadata": {},
   "outputs": [
    {
     "data": {
      "text/plain": [
       "[1.7966678818082193, 0.85448000000000002]"
      ]
     },
     "execution_count": 24,
     "metadata": {},
     "output_type": "execute_result"
    }
   ],
   "source": [
    "scores"
   ]
  },
  {
   "cell_type": "code",
   "execution_count": null,
   "metadata": {
    "collapsed": true
   },
   "outputs": [],
   "source": []
  }
 ],
 "metadata": {
  "kernelspec": {
   "display_name": "Python 3",
   "language": "python",
   "name": "python3"
  },
  "language_info": {
   "codemirror_mode": {
    "name": "ipython",
    "version": 3
   },
   "file_extension": ".py",
   "mimetype": "text/x-python",
   "name": "python",
   "nbconvert_exporter": "python",
   "pygments_lexer": "ipython3",
   "version": "3.6.1"
  }
 },
 "nbformat": 4,
 "nbformat_minor": 2
}
