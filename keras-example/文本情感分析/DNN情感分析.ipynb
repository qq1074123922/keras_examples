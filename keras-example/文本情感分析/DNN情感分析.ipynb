{
 "cells": [
  {
   "cell_type": "code",
   "execution_count": 7,
   "metadata": {
    "collapsed": true
   },
   "outputs": [],
   "source": [
    "import numpy as np"
   ]
  },
  {
   "cell_type": "code",
   "execution_count": 10,
   "metadata": {
    "collapsed": true
   },
   "outputs": [],
   "source": [
    "res=np.load('imdb.npz')\n",
    "#将训练数据和测试数据加载进来"
   ]
  },
  {
   "cell_type": "code",
   "execution_count": 16,
   "metadata": {},
   "outputs": [
    {
     "data": {
      "text/plain": [
       "['x_test', 'x_train', 'y_train', 'y_test']"
      ]
     },
     "execution_count": 16,
     "metadata": {},
     "output_type": "execute_result"
    }
   ],
   "source": [
    "res.files\n",
    "#看一下有几个属性"
   ]
  },
  {
   "cell_type": "code",
   "execution_count": 18,
   "metadata": {
    "collapsed": true
   },
   "outputs": [],
   "source": [
    "x_train=res['x_train']\n",
    "y_train=res['y_train']\n",
    "x_test=res['x_test']\n",
    "y_test=res['y_test']\n",
    "#将数据分好"
   ]
  },
  {
   "cell_type": "code",
   "execution_count": 37,
   "metadata": {},
   "outputs": [
    {
     "data": {
      "text/plain": [
       "433"
      ]
     },
     "execution_count": 37,
     "metadata": {},
     "output_type": "execute_result"
    }
   ],
   "source": [
    "len(x_train[1])"
   ]
  },
  {
   "cell_type": "code",
   "execution_count": 26,
   "metadata": {},
   "outputs": [
    {
     "name": "stdout",
     "output_type": "stream",
     "text": [
      "237.71364\n"
     ]
    },
    {
     "data": {
      "image/png": "[encoded data removed]",
      "text/plain": [
       "<matplotlib.figure.Figure at 0x125f57ef0>"
      ]
     },
     "metadata": {},
     "output_type": "display_data"
    }
   ],
   "source": [
    "avg_len = list(map(len, x_train))\n",
    "print(np.mean(avg_len))\n",
    "\n",
    "\n",
    "import matplotlib.pyplot as plt\n",
    "plt.hist(avg_len, bins = range(min(avg_len), max(avg_len) + 50, 50))\n",
    "plt.show()\n",
    "#做一个统计，看一下一个评论都有几个词，一个评论平均有237个词语"
   ]
  },
  {
   "cell_type": "code",
   "execution_count": 27,
   "metadata": {
    "collapsed": true
   },
   "outputs": [],
   "source": [
    "from keras.models import Sequential\n",
    "from keras.layers import Dense\n",
    "from keras.layers import Flatten\n",
    "from keras.layers.embeddings import Embedding\n",
    "from keras.preprocessing import sequence\n",
    "import keras\n",
    "import numpy as np\n",
    "\n"
   ]
  },
  {
   "cell_type": "code",
   "execution_count": 40,
   "metadata": {
    "collapsed": true
   },
   "outputs": [],
   "source": [
    "maxword = 400\n",
    "x_train_pad = sequence.pad_sequences(x_train, maxlen = maxword)\n",
    "x_test_pad = sequence.pad_sequences(x_test, maxlen = maxword)\n",
    "vocab_size = np.max([np.max(x_train_pad[i]) for i in range(x_train_pad.shape[0])]) + 1\n",
    "\n",
    "#由于我们的评论所包含的单词有多有少，所以需要统一一下单词个数，这里确定统一的单词个数为400个，少了补，多了删除。"
   ]
  },
  {
   "cell_type": "code",
   "execution_count": 47,
   "metadata": {},
   "outputs": [
    {
     "data": {
      "text/plain": [
       "88585"
      ]
     },
     "execution_count": 47,
     "metadata": {},
     "output_type": "execute_result"
    }
   ],
   "source": [
    "vocab_size"
   ]
  },
  {
   "cell_type": "code",
   "execution_count": 46,
   "metadata": {
    "collapsed": true
   },
   "outputs": [],
   "source": [
    "x_train_pad?"
   ]
  },
  {
   "cell_type": "code",
   "execution_count": 38,
   "metadata": {},
   "outputs": [
    {
     "name": "stdout",
     "output_type": "stream",
     "text": [
      "_________________________________________________________________\n",
      "Layer (type)                 Output Shape              Param #   \n",
      "=================================================================\n",
      "embedding_1 (Embedding)      (None, 400, 64)           5669440   \n",
      "_________________________________________________________________\n",
      "flatten_1 (Flatten)          (None, 25600)             0         \n",
      "_________________________________________________________________\n",
      "dense_1 (Dense)              (None, 2000)              51202000  \n",
      "_________________________________________________________________\n",
      "dense_2 (Dense)              (None, 500)               1000500   \n",
      "_________________________________________________________________\n",
      "dense_3 (Dense)              (None, 200)               100200    \n",
      "_________________________________________________________________\n",
      "dense_4 (Dense)              (None, 50)                10050     \n",
      "_________________________________________________________________\n",
      "dense_5 (Dense)              (None, 1)                 51        \n",
      "=================================================================\n",
      "Total params: 57,982,241\n",
      "Trainable params: 57,982,241\n",
      "Non-trainable params: 0\n",
      "_________________________________________________________________\n",
      "None\n"
     ]
    }
   ],
   "source": [
    "#开始构建我们的深度神经网络\n",
    "model = Sequential()\n",
    "model.add(Embedding(vocab_size, 64, input_length = maxword))#构建第一层，嵌入层，该层的功能像word2vec，对句子进行编码\n",
    "model.add(Flatten())#添加一个扁平化层，将一个张量变成一个向量\n",
    "\n",
    "model.add(Dense(2000, activation = 'relu'))\n",
    "model.add(Dense(500, activation = 'relu'))\n",
    "model.add(Dense(200, activation = 'relu'))\n",
    "model.add(Dense(50, activation = 'relu'))\n",
    "model.add(Dense(1, activation = 'sigmoid'))\n",
    "#添加5个全连接层，最后一个是输出层\n",
    "model.compile(loss = 'binary_crossentropy', optimizer = 'adam', metrics = ['accuracy'])\n",
    "#对网络进行编译，确定损失函数（交叉熵损失），优化方法，评判标准\n",
    "print(model.summary())\n"
   ]
  },
  {
   "cell_type": "code",
   "execution_count": 41,
   "metadata": {},
   "outputs": [
    {
     "name": "stdout",
     "output_type": "stream",
     "text": [
      "Train on 25000 samples, validate on 25000 samples\n",
      "Epoch 1/20\n",
      "25000/25000 [==============================] - 582s - loss: 0.4211 - acc: 0.7792 - val_loss: 0.2874 - val_acc: 0.8796\n",
      "Epoch 2/20\n",
      "25000/25000 [==============================] - 573s - loss: 0.0726 - acc: 0.9751 - val_loss: 0.4053 - val_acc: 0.8550\n",
      "Epoch 3/20\n",
      "25000/25000 [==============================] - 540s - loss: 0.0058 - acc: 0.9977 - val_loss: 0.7739 - val_acc: 0.8490\n",
      "Epoch 4/20\n",
      "25000/25000 [==============================] - 545s - loss: 0.0056 - acc: 0.9981 - val_loss: 0.7378 - val_acc: 0.8512\n",
      "Epoch 5/20\n",
      "25000/25000 [==============================] - 544s - loss: 0.0052 - acc: 0.9982 - val_loss: 1.0023 - val_acc: 0.8520\n",
      "Epoch 6/20\n",
      "25000/25000 [==============================] - 547s - loss: 0.0064 - acc: 0.9981 - val_loss: 0.8512 - val_acc: 0.8350\n",
      "Epoch 7/20\n",
      "25000/25000 [==============================] - 529s - loss: 0.0081 - acc: 0.9975 - val_loss: 0.9395 - val_acc: 0.8458\n",
      "Epoch 8/20\n",
      "25000/25000 [==============================] - 530s - loss: 0.0022 - acc: 0.9992 - val_loss: 0.9819 - val_acc: 0.8402\n",
      "Epoch 9/20\n",
      "25000/25000 [==============================] - 533s - loss: 0.0025 - acc: 0.9990 - val_loss: 1.1952 - val_acc: 0.8476\n",
      "Epoch 10/20\n",
      "25000/25000 [==============================] - 531s - loss: 0.0090 - acc: 0.9970 - val_loss: 1.1055 - val_acc: 0.8360\n",
      "Epoch 11/20\n",
      "25000/25000 [==============================] - 531s - loss: 0.0056 - acc: 0.9986 - val_loss: 0.9466 - val_acc: 0.8382\n",
      "Epoch 12/20\n",
      "25000/25000 [==============================] - 531s - loss: 0.0010 - acc: 0.9996 - val_loss: 1.3149 - val_acc: 0.8448\n",
      "Epoch 13/20\n",
      "25000/25000 [==============================] - 531s - loss: 0.0014 - acc: 0.9994 - val_loss: 1.3593 - val_acc: 0.8340\n",
      "Epoch 14/20\n",
      "25000/25000 [==============================] - 531s - loss: 0.0050 - acc: 0.9984 - val_loss: 1.2118 - val_acc: 0.8360\n",
      "Epoch 15/20\n",
      "25000/25000 [==============================] - 526s - loss: 0.0036 - acc: 0.9992 - val_loss: 1.1001 - val_acc: 0.8388\n",
      "Epoch 16/20\n",
      "25000/25000 [==============================] - 522s - loss: 0.0039 - acc: 0.9986 - val_loss: 1.0668 - val_acc: 0.8382\n",
      "Epoch 17/20\n",
      "25000/25000 [==============================] - 521s - loss: 0.0026 - acc: 0.9992 - val_loss: 0.9478 - val_acc: 0.8358\n",
      "Epoch 18/20\n",
      "25000/25000 [==============================] - 521s - loss: 0.0014 - acc: 0.9996 - val_loss: 1.8236 - val_acc: 0.8375\n",
      "Epoch 19/20\n",
      "25000/25000 [==============================] - 521s - loss: 0.0030 - acc: 0.9990 - val_loss: 1.5636 - val_acc: 0.8333\n",
      "Epoch 20/20\n",
      "25000/25000 [==============================] - 521s - loss: 3.9165e-05 - acc: 1.0000 - val_loss: 1.8414 - val_acc: 0.8351\n"
     ]
    },
    {
     "ename": "NameError",
     "evalue": "name 'X_test_pad' is not defined",
     "output_type": "error",
     "traceback": [
      "\u001b[0;31m---------------------------------------------------------------------------\u001b[0m",
      "\u001b[0;31mNameError\u001b[0m                                 Traceback (most recent call last)",
      "\u001b[0;32m<ipython-input-41-ce047afeb2f4>\u001b[0m in \u001b[0;36m<module>\u001b[0;34m()\u001b[0m\n\u001b[1;32m      1\u001b[0m \u001b[0mmodel\u001b[0m\u001b[0;34m.\u001b[0m\u001b[0mfit\u001b[0m\u001b[0;34m(\u001b[0m\u001b[0mx_train_pad\u001b[0m\u001b[0;34m,\u001b[0m \u001b[0my_train\u001b[0m\u001b[0;34m,\u001b[0m \u001b[0mvalidation_data\u001b[0m \u001b[0;34m=\u001b[0m \u001b[0;34m(\u001b[0m\u001b[0mx_test_pad\u001b[0m\u001b[0;34m,\u001b[0m \u001b[0my_test\u001b[0m\u001b[0;34m)\u001b[0m\u001b[0;34m,\u001b[0m \u001b[0mepochs\u001b[0m \u001b[0;34m=\u001b[0m \u001b[0;36m20\u001b[0m\u001b[0;34m,\u001b[0m \u001b[0mbatch_size\u001b[0m \u001b[0;34m=\u001b[0m \u001b[0;36m100\u001b[0m\u001b[0;34m,\u001b[0m \u001b[0mverbose\u001b[0m \u001b[0;34m=\u001b[0m \u001b[0;36m1\u001b[0m\u001b[0;34m)\u001b[0m\u001b[0;34m\u001b[0m\u001b[0m\n\u001b[0;32m----> 2\u001b[0;31m \u001b[0mscore\u001b[0m \u001b[0;34m=\u001b[0m \u001b[0mmodel\u001b[0m\u001b[0;34m.\u001b[0m\u001b[0mevaluate\u001b[0m\u001b[0;34m(\u001b[0m\u001b[0mX_test_pad\u001b[0m\u001b[0;34m,\u001b[0m \u001b[0my_test\u001b[0m\u001b[0;34m)\u001b[0m\u001b[0;34m\u001b[0m\u001b[0m\n\u001b[0m",
      "\u001b[0;31mNameError\u001b[0m: name 'X_test_pad' is not defined"
     ]
    }
   ],
   "source": [
    "model.fit(x_train_pad, y_train, validation_data = (x_test_pad, y_test), epochs = 20, batch_size = 100, verbose = 1)\n"
   ]
  },
  {
   "cell_type": "code",
   "execution_count": 42,
   "metadata": {},
   "outputs": [
    {
     "name": "stdout",
     "output_type": "stream",
     "text": [
      "25000/25000 [==============================] - 109s   \n"
     ]
    }
   ],
   "source": [
    "score = model.evaluate(x_test_pad, y_test)"
   ]
  },
  {
   "cell_type": "code",
   "execution_count": 43,
   "metadata": {},
   "outputs": [
    {
     "data": {
      "text/plain": [
       "[1.8414168407848801, 0.83511999999999997]"
      ]
     },
     "execution_count": 43,
     "metadata": {},
     "output_type": "execute_result"
    }
   ],
   "source": [
    "score"
   ]
  },
  {
   "cell_type": "code",
   "execution_count": null,
   "metadata": {
    "collapsed": true
   },
   "outputs": [],
   "source": []
  }
 ],
 "metadata": {
  "kernelspec": {
   "display_name": "Python 3",
   "language": "python",
   "name": "python3"
  },
  "language_info": {
   "codemirror_mode": {
    "name": "ipython",
    "version": 3
   },
   "file_extension": ".py",
   "mimetype": "text/x-python",
   "name": "python",
   "nbconvert_exporter": "python",
   "pygments_lexer": "ipython3",
   "version": "3.6.0"
  },
  "toc": {
   "colors": {
    "hover_highlight": "#DAA520",
    "navigate_num": "#000000",
    "navigate_text": "#333333",
    "running_highlight": "#FF0000",
    "selected_highlight": "#FFD700",
    "sidebar_border": "#EEEEEE",
    "wrapper_background": "#FFFFFF"
   },
   "moveMenuLeft": true,
   "nav_menu": {
    "height": "12px",
    "width": "252px"
   },
   "navigate_menu": true,
   "number_sections": true,
   "sideBar": true,
   "threshold": 4,
   "toc_cell": false,
   "toc_section_display": "block",
   "toc_window_display": false,
   "widenNotebook": false
  }
 },
 "nbformat": 4,
 "nbformat_minor": 2
}
