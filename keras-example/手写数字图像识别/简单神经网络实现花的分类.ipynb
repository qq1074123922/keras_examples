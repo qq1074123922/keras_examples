{
 "cells": [
  {
   "cell_type": "markdown",
   "metadata": {},
   "source": [
    "> 对比一下sckleran中的svm方法和keras搭建的神经网络的准确率"
   ]
  },
  {
   "cell_type": "code",
   "execution_count": 5,
   "metadata": {
    "collapsed": true
   },
   "outputs": [],
   "source": [
    "import keras\n",
    "import pandas as pd\n",
    "import numpy as np"
   ]
  },
  {
   "cell_type": "code",
   "execution_count": 6,
   "metadata": {
    "collapsed": true
   },
   "outputs": [],
   "source": [
    "#先导入数据\n",
    "from sklearn.datasets import load_iris\n",
    "iris=load_iris()\n"
   ]
  },
  {
   "cell_type": "code",
   "execution_count": 7,
   "metadata": {},
   "outputs": [
    {
     "name": "stdout",
     "output_type": "stream",
     "text": [
      "['sepal length (cm)', 'sepal width (cm)', 'petal length (cm)', 'petal width (cm)']\n",
      "['setosa' 'versicolor' 'virginica']\n"
     ]
    }
   ],
   "source": [
    "print(iris.feature_names)\n",
    "print(iris.target_names)\n"
   ]
  },
  {
   "cell_type": "code",
   "execution_count": 8,
   "metadata": {
    "collapsed": true
   },
   "outputs": [],
   "source": [
    "data_df=pd.DataFrame(data=iris.data)\n",
    "target_df=pd.DataFrame(data=iris.target)"
   ]
  },
  {
   "cell_type": "code",
   "execution_count": 9,
   "metadata": {},
   "outputs": [
    {
     "name": "stdout",
     "output_type": "stream",
     "text": [
      "     0    1    2    3\n",
      "0  5.1  3.5  1.4  0.2\n",
      "1  4.9  3.0  1.4  0.2\n",
      "2  4.7  3.2  1.3  0.2\n",
      "3  4.6  3.1  1.5  0.2\n",
      "4  5.0  3.6  1.4  0.2\n",
      "   0\n",
      "0  0\n",
      "1  0\n",
      "2  0\n",
      "3  0\n",
      "4  0\n"
     ]
    }
   ],
   "source": [
    "print(data_df.head())\n",
    "print(target_df.head())"
   ]
  },
  {
   "cell_type": "markdown",
   "metadata": {},
   "source": [
    "## svm"
   ]
  },
  {
   "cell_type": "markdown",
   "metadata": {},
   "source": [
    "开始进行训练集合和验证集的划分"
   ]
  },
  {
   "cell_type": "code",
   "execution_count": 13,
   "metadata": {
    "collapsed": true
   },
   "outputs": [],
   "source": [
    "#直接使用sckleran中的数据划分的函数\n",
    "from sklearn.model_selection import train_test_split"
   ]
  },
  {
   "cell_type": "code",
   "execution_count": 14,
   "metadata": {
    "collapsed": true
   },
   "outputs": [],
   "source": [
    "#将数据分成训练集和验证集\n",
    "data_df_train,data_df_test,target_df_train,target_df_test=train_test_split(data_df,target_df,train_size=0.8)"
   ]
  },
  {
   "cell_type": "code",
   "execution_count": 32,
   "metadata": {
    "collapsed": true
   },
   "outputs": [],
   "source": [
    "#开始用svm训练验证一下效果\n",
    "from sklearn.svm import SVC\n",
    "from sklearn.model_selection import cross_val_score\n",
    "from sklearn.metrics import accuracy_score"
   ]
  },
  {
   "cell_type": "code",
   "execution_count": 17,
   "metadata": {
    "collapsed": true
   },
   "outputs": [],
   "source": [
    "clf_svm=SVC()"
   ]
  },
  {
   "cell_type": "code",
   "execution_count": 21,
   "metadata": {},
   "outputs": [
    {
     "name": "stdout",
     "output_type": "stream",
     "text": [
      "(150, 4)\n",
      "(150, 1)\n"
     ]
    }
   ],
   "source": [
    "print(data_df.shape)\n",
    "print(target_df.shape)"
   ]
  },
  {
   "cell_type": "code",
   "execution_count": 29,
   "metadata": {},
   "outputs": [
    {
     "name": "stderr",
     "output_type": "stream",
     "text": [
      "D:\\Anaconda\\lib\\site-packages\\sklearn\\utils\\validation.py:526: DataConversionWarning: A column-vector y was passed when a 1d array was expected. Please change the shape of y to (n_samples, ), for example using ravel().\n",
      "  y = column_or_1d(y, warn=True)\n"
     ]
    },
    {
     "data": {
      "text/plain": [
       "SVC(C=1.0, cache_size=200, class_weight=None, coef0=0.0,\n",
       "  decision_function_shape=None, degree=3, gamma='auto', kernel='rbf',\n",
       "  max_iter=-1, probability=False, random_state=None, shrinking=True,\n",
       "  tol=0.001, verbose=False)"
      ]
     },
     "execution_count": 29,
     "metadata": {},
     "output_type": "execute_result"
    }
   ],
   "source": [
    "#训练我的svm模型\n",
    "clf_svm.fit(X=data_df_train,y=target_df_train)"
   ]
  },
  {
   "cell_type": "code",
   "execution_count": 30,
   "metadata": {
    "collapsed": true
   },
   "outputs": [],
   "source": [
    "#利用训练好的模型进行预测\n",
    "target_predict=clf_svm.predict(X=data_df_test)"
   ]
  },
  {
   "cell_type": "code",
   "execution_count": 33,
   "metadata": {},
   "outputs": [
    {
     "data": {
      "text/plain": [
       "0.93333333333333335"
      ]
     },
     "execution_count": 33,
     "metadata": {},
     "output_type": "execute_result"
    }
   ],
   "source": [
    "#检测一下预测的结果的好坏\n",
    "accuracy_score(y_pred=target_predict,y_true=target_df_test)"
   ]
  },
  {
   "cell_type": "code",
   "execution_count": 51,
   "metadata": {},
   "outputs": [
    {
     "data": {
      "text/plain": [
       "array([ 0.95833333,  1.        ,  0.95238095,  0.95238095,  0.9047619 ,\n",
       "        0.95238095,  1.        ])"
      ]
     },
     "execution_count": 51,
     "metadata": {},
     "output_type": "execute_result"
    }
   ],
   "source": [
    "cross_val_score(estimator=clf_svm,X=iris.data,y=iris.target,cv=7)\n",
    "#在利用cross_val_acore函数的时候，需要注意输入数据的格式，输入的数据的格式是array，其他格式可能会报错"
   ]
  },
  {
   "cell_type": "code",
   "execution_count": 61,
   "metadata": {},
   "outputs": [
    {
     "data": {
      "text/plain": [
       "array([ 0.98039216,  0.96078431,  0.97916667])"
      ]
     },
     "execution_count": 61,
     "metadata": {},
     "output_type": "execute_result"
    }
   ],
   "source": [
    "cross_val_score(estimator=clf_svm,X=data_df,y=target_df[0])\n",
    "#cross_val_score(estimator=clf_svm,X=data_df,y=target_df) 这句会报错，因为输入的格式有问题"
   ]
  },
  {
   "cell_type": "markdown",
   "metadata": {},
   "source": [
    "----"
   ]
  },
  {
   "cell_type": "markdown",
   "metadata": {},
   "source": [
    "## keras搭建简单神经网络"
   ]
  },
  {
   "cell_type": "markdown",
   "metadata": {},
   "source": [
    "> 自己搭建一个简单神经网络实现对花的图片进行分类\n",
    "1. 导入数据\n",
    "2. 修改输入数据的格式，修改标签数据的格式\n",
    "3. 搭建自己的神经网络\n",
    "4. 编译，训练，测试"
   ]
  },
  {
   "cell_type": "code",
   "execution_count": 1,
   "metadata": {},
   "outputs": [
    {
     "name": "stderr",
     "output_type": "stream",
     "text": [
      "Using Theano backend.\n"
     ]
    }
   ],
   "source": [
    "import keras "
   ]
  },
  {
   "cell_type": "code",
   "execution_count": 14,
   "metadata": {
    "collapsed": true
   },
   "outputs": [],
   "source": [
    "from keras.models import Sequential\n",
    "from keras.layers import Dense,Activation\n",
    "from keras.utils import to_categorical"
   ]
  },
  {
   "cell_type": "code",
   "execution_count": 11,
   "metadata": {},
   "outputs": [
    {
     "name": "stdout",
     "output_type": "stream",
     "text": [
      "     0    1    2    3\n",
      "0  5.1  3.5  1.4  0.2\n",
      "1  4.9  3.0  1.4  0.2\n",
      "2  4.7  3.2  1.3  0.2\n",
      "3  4.6  3.1  1.5  0.2\n",
      "4  5.0  3.6  1.4  0.2\n",
      "   0\n",
      "0  0\n",
      "1  0\n",
      "2  0\n",
      "3  0\n",
      "4  0\n"
     ]
    }
   ],
   "source": [
    "#准备好训练数据\n",
    "print(data_df.head())\n",
    "print(target_df.head())"
   ]
  },
  {
   "cell_type": "code",
   "execution_count": 17,
   "metadata": {
    "collapsed": true
   },
   "outputs": [],
   "source": [
    "#处理一下标签数据\n",
    "target=to_categorical(y=target_df.values,num_classes=3)"
   ]
  },
  {
   "cell_type": "code",
   "execution_count": 3,
   "metadata": {
    "collapsed": true
   },
   "outputs": [],
   "source": [
    "clf_model=Sequential()\n",
    "#初始化一个序列模型，然后开始堆积木的工作"
   ]
  },
  {
   "cell_type": "markdown",
   "metadata": {},
   "source": [
    "一般情况下，将你的数据喂给模型训练之前都需要进行数据的预处理，比如数据的归一化，为了代码简单一点，我们这里就先默认数据都已经进行了归一化处理"
   ]
  },
  {
   "cell_type": "markdown",
   "metadata": {},
   "source": [
    "暂时先不归一化，后面再考虑，不要增加太多细节，以免影响对主干的理解"
   ]
  },
  {
   "cell_type": "code",
   "execution_count": 12,
   "metadata": {
    "collapsed": true
   },
   "outputs": [],
   "source": [
    "clf_model.add(Dense(activation='relu',units=16,input_dim=4))\n",
    "clf_model.add(Dense(activation='relu',units=8))\n",
    "clf_model.add(Dense(activation='softmax',units=3))"
   ]
  },
  {
   "cell_type": "code",
   "execution_count": 13,
   "metadata": {},
   "outputs": [
    {
     "name": "stdout",
     "output_type": "stream",
     "text": [
      "_________________________________________________________________\n",
      "Layer (type)                 Output Shape              Param #   \n",
      "=================================================================\n",
      "dense_1 (Dense)              (None, 16)                80        \n",
      "_________________________________________________________________\n",
      "dense_2 (Dense)              (None, 8)                 136       \n",
      "_________________________________________________________________\n",
      "dense_3 (Dense)              (None, 3)                 27        \n",
      "=================================================================\n",
      "Total params: 243\n",
      "Trainable params: 243\n",
      "Non-trainable params: 0\n",
      "_________________________________________________________________\n",
      "None\n"
     ]
    }
   ],
   "source": [
    "print(clf_model.summary())"
   ]
  },
  {
   "cell_type": "code",
   "execution_count": 20,
   "metadata": {
    "collapsed": true
   },
   "outputs": [],
   "source": [
    "clf_model.compile(loss='categorical_crossentropy',metrics=['accuracy'],optimizer='adagrad')"
   ]
  },
  {
   "cell_type": "code",
   "execution_count": 24,
   "metadata": {},
   "outputs": [
    {
     "data": {
      "text/plain": [
       "(150, 4)"
      ]
     },
     "execution_count": 24,
     "metadata": {},
     "output_type": "execute_result"
    }
   ],
   "source": [
    "data_df.shape"
   ]
  },
  {
   "cell_type": "code",
   "execution_count": 22,
   "metadata": {},
   "outputs": [
    {
     "name": "stdout",
     "output_type": "stream",
     "text": [
      "Epoch 1/200\n",
      "150/150 [==============================] - 0s - loss: 0.5744 - acc: 0.6867     \n",
      "Epoch 2/200\n",
      "150/150 [==============================] - 0s - loss: 0.5597 - acc: 0.6933     \n",
      "Epoch 3/200\n",
      "150/150 [==============================] - 0s - loss: 0.5454 - acc: 0.7333     \n",
      "Epoch 4/200\n",
      "150/150 [==============================] - 0s - loss: 0.5335 - acc: 0.7267     \n",
      "Epoch 5/200\n",
      "150/150 [==============================] - 0s - loss: 0.5228 - acc: 0.7800     \n",
      "Epoch 6/200\n",
      "150/150 [==============================] - 0s - loss: 0.5123 - acc: 0.7800     \n",
      "Epoch 7/200\n",
      "150/150 [==============================] - 0s - loss: 0.5016 - acc: 0.8133     \n",
      "Epoch 8/200\n",
      "150/150 [==============================] - 0s - loss: 0.4936 - acc: 0.8133     \n",
      "Epoch 9/200\n",
      "150/150 [==============================] - 0s - loss: 0.4830 - acc: 0.8467     \n",
      "Epoch 10/200\n",
      "150/150 [==============================] - 0s - loss: 0.4747 - acc: 0.8667     \n",
      "Epoch 11/200\n",
      "150/150 [==============================] - 0s - loss: 0.4668 - acc: 0.8667     \n",
      "Epoch 12/200\n",
      "150/150 [==============================] - 0s - loss: 0.4583 - acc: 0.8533     \n",
      "Epoch 13/200\n",
      "150/150 [==============================] - 0s - loss: 0.4513 - acc: 0.8467     \n",
      "Epoch 14/200\n",
      "150/150 [==============================] - 0s - loss: 0.4463 - acc: 0.8733     \n",
      "Epoch 15/200\n",
      "150/150 [==============================] - 0s - loss: 0.4391 - acc: 0.8667     \n",
      "Epoch 16/200\n",
      "150/150 [==============================] - 0s - loss: 0.4338 - acc: 0.8933     \n",
      "Epoch 17/200\n",
      "150/150 [==============================] - 0s - loss: 0.4247 - acc: 0.9200     \n",
      "Epoch 18/200\n",
      "150/150 [==============================] - 0s - loss: 0.4196 - acc: 0.9133     \n",
      "Epoch 19/200\n",
      "150/150 [==============================] - 0s - loss: 0.4127 - acc: 0.9200     \n",
      "Epoch 20/200\n",
      "150/150 [==============================] - 0s - loss: 0.4109 - acc: 0.9200     \n",
      "Epoch 21/200\n",
      "150/150 [==============================] - 0s - loss: 0.4027 - acc: 0.9000     \n",
      "Epoch 22/200\n",
      "150/150 [==============================] - 0s - loss: 0.3968 - acc: 0.9267     \n",
      "Epoch 23/200\n",
      "150/150 [==============================] - 0s - loss: 0.3932 - acc: 0.9400     \n",
      "Epoch 24/200\n",
      "150/150 [==============================] - 0s - loss: 0.3869 - acc: 0.9267     \n",
      "Epoch 25/200\n",
      "150/150 [==============================] - 0s - loss: 0.3830 - acc: 0.9400     \n",
      "Epoch 26/200\n",
      "150/150 [==============================] - 0s - loss: 0.3770 - acc: 0.9333     \n",
      "Epoch 27/200\n",
      "150/150 [==============================] - 0s - loss: 0.3769 - acc: 0.9467     \n",
      "Epoch 28/200\n",
      "150/150 [==============================] - 0s - loss: 0.3689 - acc: 0.9400     \n",
      "Epoch 29/200\n",
      "150/150 [==============================] - 0s - loss: 0.3646 - acc: 0.9467     \n",
      "Epoch 30/200\n",
      "150/150 [==============================] - 0s - loss: 0.3596 - acc: 0.9533     \n",
      "Epoch 31/200\n",
      "150/150 [==============================] - 0s - loss: 0.3568 - acc: 0.9467     \n",
      "Epoch 32/200\n",
      "150/150 [==============================] - 0s - loss: 0.3553 - acc: 0.9533     \n",
      "Epoch 33/200\n",
      "150/150 [==============================] - 0s - loss: 0.3499 - acc: 0.9533     \n",
      "Epoch 34/200\n",
      "150/150 [==============================] - 0s - loss: 0.3446 - acc: 0.9533     \n",
      "Epoch 35/200\n",
      "150/150 [==============================] - 0s - loss: 0.3428 - acc: 0.9533     \n",
      "Epoch 36/200\n",
      "150/150 [==============================] - 0s - loss: 0.3379 - acc: 0.9533     \n",
      "Epoch 37/200\n",
      "150/150 [==============================] - ETA: 0s - loss: 0.2766 - acc: 0.950 - 0s - loss: 0.3346 - acc: 0.9600     \n",
      "Epoch 38/200\n",
      "150/150 [==============================] - 0s - loss: 0.3309 - acc: 0.9600     \n",
      "Epoch 39/200\n",
      "150/150 [==============================] - 0s - loss: 0.3295 - acc: 0.9533     \n",
      "Epoch 40/200\n",
      "150/150 [==============================] - 0s - loss: 0.3250 - acc: 0.9600     \n",
      "Epoch 41/200\n",
      "150/150 [==============================] - ETA: 0s - loss: 0.3681 - acc: 0.925 - 0s - loss: 0.3213 - acc: 0.9600     \n",
      "Epoch 42/200\n",
      "150/150 [==============================] - ETA: 0s - loss: 0.3107 - acc: 1.000 - 0s - loss: 0.3225 - acc: 0.9533     \n",
      "Epoch 43/200\n",
      "150/150 [==============================] - 0s - loss: 0.3154 - acc: 0.9733     \n",
      "Epoch 44/200\n",
      "150/150 [==============================] - 0s - loss: 0.3129 - acc: 0.9600     \n",
      "Epoch 45/200\n",
      "150/150 [==============================] - 0s - loss: 0.3099 - acc: 0.9667     \n",
      "Epoch 46/200\n",
      "150/150 [==============================] - 0s - loss: 0.3065 - acc: 0.9667     \n",
      "Epoch 47/200\n",
      "150/150 [==============================] - 0s - loss: 0.3057 - acc: 0.9600     \n",
      "Epoch 48/200\n",
      "150/150 [==============================] - 0s - loss: 0.3015 - acc: 0.9533     \n",
      "Epoch 49/200\n",
      "150/150 [==============================] - 0s - loss: 0.2990 - acc: 0.9667     \n",
      "Epoch 50/200\n",
      "150/150 [==============================] - 0s - loss: 0.2961 - acc: 0.9733     \n",
      "Epoch 51/200\n",
      "150/150 [==============================] - 0s - loss: 0.2944 - acc: 0.9600     \n",
      "Epoch 52/200\n",
      "150/150 [==============================] - 0s - loss: 0.2927 - acc: 0.9600     \n",
      "Epoch 53/200\n",
      "150/150 [==============================] - 0s - loss: 0.2903 - acc: 0.9600     \n",
      "Epoch 54/200\n",
      "150/150 [==============================] - 0s - loss: 0.2863 - acc: 0.9667     \n",
      "Epoch 55/200\n",
      "150/150 [==============================] - ETA: 0s - loss: 0.2725 - acc: 0.975 - 0s - loss: 0.2845 - acc: 0.9600     \n",
      "Epoch 56/200\n",
      "150/150 [==============================] - 0s - loss: 0.2817 - acc: 0.9600     \n",
      "Epoch 57/200\n",
      "150/150 [==============================] - 0s - loss: 0.2805 - acc: 0.9733     \n",
      "Epoch 58/200\n",
      "150/150 [==============================] - 0s - loss: 0.2790 - acc: 0.9667     \n",
      "Epoch 59/200\n",
      "150/150 [==============================] - 0s - loss: 0.2761 - acc: 0.9600     \n",
      "Epoch 60/200\n",
      "150/150 [==============================] - 0s - loss: 0.2724 - acc: 0.9667     \n",
      "Epoch 61/200\n",
      "150/150 [==============================] - 0s - loss: 0.2708 - acc: 0.9667     \n",
      "Epoch 62/200\n",
      "150/150 [==============================] - 0s - loss: 0.2691 - acc: 0.9600     \n",
      "Epoch 63/200\n",
      "150/150 [==============================] - 0s - loss: 0.2672 - acc: 0.9667     \n",
      "Epoch 64/200\n",
      "150/150 [==============================] - 0s - loss: 0.2640 - acc: 0.9600     \n",
      "Epoch 65/200\n",
      "150/150 [==============================] - 0s - loss: 0.2624 - acc: 0.9667     \n",
      "Epoch 66/200\n",
      "150/150 [==============================] - 0s - loss: 0.2600 - acc: 0.9667     \n",
      "Epoch 67/200\n",
      "150/150 [==============================] - 0s - loss: 0.2587 - acc: 0.9600     \n",
      "Epoch 68/200\n",
      "150/150 [==============================] - 0s - loss: 0.2563 - acc: 0.9600     \n",
      "Epoch 69/200\n",
      "150/150 [==============================] - 0s - loss: 0.2552 - acc: 0.9600     \n",
      "Epoch 70/200\n",
      "150/150 [==============================] - 0s - loss: 0.2555 - acc: 0.9667     \n",
      "Epoch 71/200\n",
      "150/150 [==============================] - 0s - loss: 0.2536 - acc: 0.9733     \n",
      "Epoch 72/200\n",
      "150/150 [==============================] - 0s - loss: 0.2513 - acc: 0.9733     \n",
      "Epoch 73/200\n",
      "150/150 [==============================] - 0s - loss: 0.2475 - acc: 0.9667     \n",
      "Epoch 74/200\n",
      "150/150 [==============================] - 0s - loss: 0.2460 - acc: 0.9600     \n",
      "Epoch 75/200\n",
      "150/150 [==============================] - 0s - loss: 0.2440 - acc: 0.9600     \n",
      "Epoch 76/200\n",
      "150/150 [==============================] - 0s - loss: 0.2431 - acc: 0.9667     \n",
      "Epoch 77/200\n",
      "150/150 [==============================] - 0s - loss: 0.2417 - acc: 0.9733     \n",
      "Epoch 78/200\n",
      "150/150 [==============================] - 0s - loss: 0.2393 - acc: 0.9667     \n",
      "Epoch 79/200\n",
      "150/150 [==============================] - 0s - loss: 0.2375 - acc: 0.9733     \n",
      "Epoch 80/200\n",
      "150/150 [==============================] - 0s - loss: 0.2389 - acc: 0.9533     \n",
      "Epoch 81/200\n",
      "150/150 [==============================] - 0s - loss: 0.2343 - acc: 0.9667     \n",
      "Epoch 82/200\n",
      "150/150 [==============================] - 0s - loss: 0.2328 - acc: 0.9733     \n",
      "Epoch 83/200\n",
      "150/150 [==============================] - 0s - loss: 0.2323 - acc: 0.9667     \n",
      "Epoch 84/200\n",
      "150/150 [==============================] - 0s - loss: 0.2301 - acc: 0.9667     \n",
      "Epoch 85/200\n",
      "150/150 [==============================] - 0s - loss: 0.2283 - acc: 0.9667     \n",
      "Epoch 86/200\n",
      "150/150 [==============================] - 0s - loss: 0.2276 - acc: 0.9667     \n",
      "Epoch 87/200\n",
      "150/150 [==============================] - 0s - loss: 0.2263 - acc: 0.9600     \n",
      "Epoch 88/200\n",
      "150/150 [==============================] - 0s - loss: 0.2245 - acc: 0.9733     \n",
      "Epoch 89/200\n",
      "150/150 [==============================] - 0s - loss: 0.2292 - acc: 0.9600     \n",
      "Epoch 90/200\n",
      "150/150 [==============================] - 0s - loss: 0.2213 - acc: 0.9733     \n",
      "Epoch 91/200\n",
      "150/150 [==============================] - 0s - loss: 0.2216 - acc: 0.9600     \n",
      "Epoch 92/200\n",
      "150/150 [==============================] - 0s - loss: 0.2190 - acc: 0.9667     \n",
      "Epoch 93/200\n",
      "150/150 [==============================] - 0s - loss: 0.2174 - acc: 0.9733     \n",
      "Epoch 94/200\n",
      "150/150 [==============================] - 0s - loss: 0.2164 - acc: 0.9733     \n",
      "Epoch 95/200\n",
      "150/150 [==============================] - 0s - loss: 0.2185 - acc: 0.9600     \n",
      "Epoch 96/200\n",
      "150/150 [==============================] - 0s - loss: 0.2145 - acc: 0.9667     \n",
      "Epoch 97/200\n",
      "150/150 [==============================] - 0s - loss: 0.2131 - acc: 0.9733     \n",
      "Epoch 98/200\n",
      "150/150 [==============================] - 0s - loss: 0.2113 - acc: 0.9733     \n",
      "Epoch 99/200\n",
      "150/150 [==============================] - 0s - loss: 0.2105 - acc: 0.9733     \n",
      "Epoch 100/200\n",
      "150/150 [==============================] - 0s - loss: 0.2089 - acc: 0.9667     \n",
      "Epoch 101/200\n",
      "150/150 [==============================] - 0s - loss: 0.2078 - acc: 0.9733     \n",
      "Epoch 102/200\n",
      "150/150 [==============================] - 0s - loss: 0.2073 - acc: 0.9667     \n",
      "Epoch 103/200\n",
      "150/150 [==============================] - 0s - loss: 0.2054 - acc: 0.9667     \n",
      "Epoch 104/200\n",
      "150/150 [==============================] - 0s - loss: 0.2063 - acc: 0.9667     \n",
      "Epoch 105/200\n",
      "150/150 [==============================] - 0s - loss: 0.2038 - acc: 0.9600     \n",
      "Epoch 106/200\n",
      "150/150 [==============================] - 0s - loss: 0.2033 - acc: 0.9600     \n",
      "Epoch 107/200\n",
      "150/150 [==============================] - 0s - loss: 0.2022 - acc: 0.9733     \n",
      "Epoch 108/200\n",
      "150/150 [==============================] - 0s - loss: 0.2001 - acc: 0.9667     \n",
      "Epoch 109/200\n",
      "150/150 [==============================] - 0s - loss: 0.2003 - acc: 0.9733     \n",
      "Epoch 110/200\n",
      "150/150 [==============================] - 0s - loss: 0.1982 - acc: 0.9733     \n",
      "Epoch 111/200\n",
      "150/150 [==============================] - 0s - loss: 0.1974 - acc: 0.9733     \n",
      "Epoch 112/200\n",
      "150/150 [==============================] - 0s - loss: 0.1960 - acc: 0.9733     \n",
      "Epoch 113/200\n",
      "150/150 [==============================] - 0s - loss: 0.1978 - acc: 0.9667     \n",
      "Epoch 114/200\n",
      "150/150 [==============================] - 0s - loss: 0.1954 - acc: 0.9667     \n",
      "Epoch 115/200\n",
      "150/150 [==============================] - 0s - loss: 0.1936 - acc: 0.9733     \n",
      "Epoch 116/200\n",
      "150/150 [==============================] - 0s - loss: 0.1937 - acc: 0.9733     \n",
      "Epoch 117/200\n",
      "150/150 [==============================] - ETA: 0s - loss: 0.1606 - acc: 1.000 - 0s - loss: 0.1930 - acc: 0.9600     \n",
      "Epoch 118/200\n",
      "150/150 [==============================] - 0s - loss: 0.1905 - acc: 0.9733     \n",
      "Epoch 119/200\n",
      "150/150 [==============================] - 0s - loss: 0.1898 - acc: 0.9667     \n",
      "Epoch 120/200\n",
      "150/150 [==============================] - 0s - loss: 0.1888 - acc: 0.9733     \n",
      "Epoch 121/200\n",
      "150/150 [==============================] - 0s - loss: 0.1908 - acc: 0.9600     \n",
      "Epoch 122/200\n",
      "150/150 [==============================] - 0s - loss: 0.1877 - acc: 0.9667     \n",
      "Epoch 123/200\n",
      "150/150 [==============================] - ETA: 0s - loss: 0.1577 - acc: 1.000 - 0s - loss: 0.1859 - acc: 0.9733     \n",
      "Epoch 124/200\n",
      "150/150 [==============================] - 0s - loss: 0.1850 - acc: 0.9600     \n",
      "Epoch 125/200\n",
      "150/150 [==============================] - 0s - loss: 0.1862 - acc: 0.9733     \n",
      "Epoch 126/200\n",
      "150/150 [==============================] - 0s - loss: 0.1866 - acc: 0.9667     \n",
      "Epoch 127/200\n",
      "150/150 [==============================] - 0s - loss: 0.1847 - acc: 0.9600     \n",
      "Epoch 128/200\n",
      "150/150 [==============================] - 0s - loss: 0.1827 - acc: 0.9733     \n",
      "Epoch 129/200\n",
      "150/150 [==============================] - 0s - loss: 0.1817 - acc: 0.9600     \n",
      "Epoch 130/200\n",
      "150/150 [==============================] - 0s - loss: 0.1832 - acc: 0.9667     \n",
      "Epoch 131/200\n",
      "150/150 [==============================] - 0s - loss: 0.1792 - acc: 0.9733     \n",
      "Epoch 132/200\n",
      "150/150 [==============================] - ETA: 0s - loss: 0.1793 - acc: 1.000 - 0s - loss: 0.1789 - acc: 0.9733     \n",
      "Epoch 133/200\n",
      "150/150 [==============================] - 0s - loss: 0.1784 - acc: 0.9667     \n",
      "Epoch 134/200\n",
      "150/150 [==============================] - 0s - loss: 0.1792 - acc: 0.9733     \n",
      "Epoch 135/200\n",
      "150/150 [==============================] - 0s - loss: 0.1770 - acc: 0.9667     \n",
      "Epoch 136/200\n",
      "150/150 [==============================] - ETA: 0s - loss: 0.1413 - acc: 1.000 - 0s - loss: 0.1757 - acc: 0.9733     \n",
      "Epoch 137/200\n",
      "150/150 [==============================] - 0s - loss: 0.1773 - acc: 0.9667     \n",
      "Epoch 138/200\n",
      "150/150 [==============================] - 0s - loss: 0.1758 - acc: 0.9667     \n",
      "Epoch 139/200\n",
      "150/150 [==============================] - 0s - loss: 0.1746 - acc: 0.9667     \n",
      "Epoch 140/200\n",
      "150/150 [==============================] - 0s - loss: 0.1730 - acc: 0.9800     \n",
      "Epoch 141/200\n",
      "150/150 [==============================] - 0s - loss: 0.1729 - acc: 0.9733     \n",
      "Epoch 142/200\n",
      "150/150 [==============================] - 0s - loss: 0.1719 - acc: 0.9667     \n",
      "Epoch 143/200\n",
      "150/150 [==============================] - 0s - loss: 0.1710 - acc: 0.9733     \n",
      "Epoch 144/200\n",
      "150/150 [==============================] - ETA: 0s - loss: 0.1785 - acc: 0.975 - 0s - loss: 0.1709 - acc: 0.9733     \n",
      "Epoch 145/200\n",
      "150/150 [==============================] - 0s - loss: 0.1698 - acc: 0.9733     \n",
      "Epoch 146/200\n",
      "150/150 [==============================] - ETA: 0s - loss: 0.1801 - acc: 0.950 - 0s - loss: 0.1702 - acc: 0.9667     \n",
      "Epoch 147/200\n",
      "150/150 [==============================] - 0s - loss: 0.1690 - acc: 0.9733     \n",
      "Epoch 148/200\n",
      "150/150 [==============================] - 0s - loss: 0.1674 - acc: 0.9733     \n",
      "Epoch 149/200\n",
      "150/150 [==============================] - 0s - loss: 0.1681 - acc: 0.9733     \n",
      "Epoch 150/200\n",
      "150/150 [==============================] - 0s - loss: 0.1670 - acc: 0.9667     \n",
      "Epoch 151/200\n",
      "150/150 [==============================] - 0s - loss: 0.1657 - acc: 0.9733     \n",
      "Epoch 152/200\n",
      "150/150 [==============================] - 0s - loss: 0.1649 - acc: 0.9733     \n",
      "Epoch 153/200\n",
      "150/150 [==============================] - 0s - loss: 0.1642 - acc: 0.9733     \n",
      "Epoch 154/200\n",
      "150/150 [==============================] - 0s - loss: 0.1637 - acc: 0.9667     \n",
      "Epoch 155/200\n",
      "150/150 [==============================] - 0s - loss: 0.1634 - acc: 0.9733     \n",
      "Epoch 156/200\n",
      "150/150 [==============================] - ETA: 0s - loss: 0.1358 - acc: 1.000 - 0s - loss: 0.1642 - acc: 0.9800     \n",
      "Epoch 157/200\n",
      "150/150 [==============================] - 0s - loss: 0.1617 - acc: 0.9667     \n",
      "Epoch 158/200\n",
      "150/150 [==============================] - 0s - loss: 0.1620 - acc: 0.9667     \n",
      "Epoch 159/200\n",
      "150/150 [==============================] - 0s - loss: 0.1621 - acc: 0.9733     \n",
      "Epoch 160/200\n",
      "150/150 [==============================] - 0s - loss: 0.1611 - acc: 0.9733     \n",
      "Epoch 161/200\n",
      "150/150 [==============================] - ETA: 0s - loss: 0.1680 - acc: 0.975 - 0s - loss: 0.1607 - acc: 0.9733     \n",
      "Epoch 162/200\n",
      "150/150 [==============================] - 0s - loss: 0.1594 - acc: 0.9733     \n",
      "Epoch 163/200\n",
      "150/150 [==============================] - 0s - loss: 0.1591 - acc: 0.9667     \n",
      "Epoch 164/200\n",
      "150/150 [==============================] - 0s - loss: 0.1585 - acc: 0.9733     \n",
      "Epoch 165/200\n",
      "150/150 [==============================] - 0s - loss: 0.1576 - acc: 0.9733     \n",
      "Epoch 166/200\n",
      "150/150 [==============================] - 0s - loss: 0.1572 - acc: 0.9733     \n",
      "Epoch 167/200\n",
      "150/150 [==============================] - 0s - loss: 0.1590 - acc: 0.9733     \n",
      "Epoch 168/200\n",
      "150/150 [==============================] - 0s - loss: 0.1562 - acc: 0.9667     \n",
      "Epoch 169/200\n",
      "150/150 [==============================] - 0s - loss: 0.1569 - acc: 0.9667     \n",
      "Epoch 170/200\n",
      "150/150 [==============================] - 0s - loss: 0.1550 - acc: 0.9733     \n",
      "Epoch 171/200\n"
     ]
    },
    {
     "name": "stdout",
     "output_type": "stream",
     "text": [
      "150/150 [==============================] - 0s - loss: 0.1543 - acc: 0.9733     \n",
      "Epoch 172/200\n",
      "150/150 [==============================] - 0s - loss: 0.1536 - acc: 0.9667     \n",
      "Epoch 173/200\n",
      "150/150 [==============================] - 0s - loss: 0.1542 - acc: 0.9667     \n",
      "Epoch 174/200\n",
      "150/150 [==============================] - 0s - loss: 0.1528 - acc: 0.9667     \n",
      "Epoch 175/200\n",
      "150/150 [==============================] - 0s - loss: 0.1539 - acc: 0.9733     \n",
      "Epoch 176/200\n",
      "150/150 [==============================] - 0s - loss: 0.1525 - acc: 0.9733     \n",
      "Epoch 177/200\n",
      "150/150 [==============================] - 0s - loss: 0.1519 - acc: 0.9667     \n",
      "Epoch 178/200\n",
      "150/150 [==============================] - 0s - loss: 0.1514 - acc: 0.9667     \n",
      "Epoch 179/200\n",
      "150/150 [==============================] - 0s - loss: 0.1525 - acc: 0.9667     \n",
      "Epoch 180/200\n",
      "150/150 [==============================] - 0s - loss: 0.1505 - acc: 0.9733     \n",
      "Epoch 181/200\n",
      "150/150 [==============================] - 0s - loss: 0.1500 - acc: 0.9667     \n",
      "Epoch 182/200\n",
      "150/150 [==============================] - 0s - loss: 0.1499 - acc: 0.9667     \n",
      "Epoch 183/200\n",
      "150/150 [==============================] - 0s - loss: 0.1507 - acc: 0.9667     \n",
      "Epoch 184/200\n",
      "150/150 [==============================] - 0s - loss: 0.1498 - acc: 0.9667     \n",
      "Epoch 185/200\n",
      "150/150 [==============================] - 0s - loss: 0.1479 - acc: 0.9733     \n",
      "Epoch 186/200\n",
      "150/150 [==============================] - 0s - loss: 0.1481 - acc: 0.9733     \n",
      "Epoch 187/200\n",
      "150/150 [==============================] - ETA: 0s - loss: 0.1612 - acc: 0.950 - 0s - loss: 0.1467 - acc: 0.9733     \n",
      "Epoch 188/200\n",
      "150/150 [==============================] - 0s - loss: 0.1470 - acc: 0.9667     \n",
      "Epoch 189/200\n",
      "150/150 [==============================] - 0s - loss: 0.1471 - acc: 0.9667     \n",
      "Epoch 190/200\n",
      "150/150 [==============================] - 0s - loss: 0.1462 - acc: 0.9800     \n",
      "Epoch 191/200\n",
      "150/150 [==============================] - ETA: 0s - loss: 0.1570 - acc: 0.950 - 0s - loss: 0.1456 - acc: 0.9733     \n",
      "Epoch 192/200\n",
      "150/150 [==============================] - 0s - loss: 0.1450 - acc: 0.9733     \n",
      "Epoch 193/200\n",
      "150/150 [==============================] - 0s - loss: 0.1443 - acc: 0.9733     \n",
      "Epoch 194/200\n",
      "150/150 [==============================] - ETA: 0s - loss: 0.1464 - acc: 0.950 - 0s - loss: 0.1441 - acc: 0.9733     \n",
      "Epoch 195/200\n",
      "150/150 [==============================] - 0s - loss: 0.1439 - acc: 0.9733     \n",
      "Epoch 196/200\n",
      "150/150 [==============================] - ETA: 0s - loss: 0.1168 - acc: 1.000 - 0s - loss: 0.1432 - acc: 0.9667     \n",
      "Epoch 197/200\n",
      "150/150 [==============================] - 0s - loss: 0.1429 - acc: 0.9667     \n",
      "Epoch 198/200\n",
      "150/150 [==============================] - ETA: 0s - loss: 0.1551 - acc: 0.975 - 0s - loss: 0.1426 - acc: 0.9733     \n",
      "Epoch 199/200\n",
      "150/150 [==============================] - 0s - loss: 0.1419 - acc: 0.9733     \n",
      "Epoch 200/200\n",
      "150/150 [==============================] - 0s - loss: 0.1417 - acc: 0.9733     \n"
     ]
    },
    {
     "data": {
      "text/plain": [
       "<keras.callbacks.History at 0xc59db70>"
      ]
     },
     "execution_count": 22,
     "metadata": {},
     "output_type": "execute_result"
    }
   ],
   "source": [
    "clf_model.fit(epochs=200,x=data_df.values,y=target,shuffle=True,batch_size=40)"
   ]
  },
  {
   "cell_type": "markdown",
   "metadata": {},
   "source": [
    "----"
   ]
  }
 ],
 "metadata": {
  "kernelspec": {
   "display_name": "Python 3",
   "language": "python",
   "name": "python3"
  },
  "language_info": {
   "codemirror_mode": {
    "name": "ipython",
    "version": 3
   },
   "file_extension": ".py",
   "mimetype": "text/x-python",
   "name": "python",
   "nbconvert_exporter": "python",
   "pygments_lexer": "ipython3",
   "version": "3.6.0"
  },
  "toc": {
   "colors": {
    "hover_highlight": "#DAA520",
    "navigate_num": "#000000",
    "navigate_text": "#333333",
    "running_highlight": "#FF0000",
    "selected_highlight": "#FFD700",
    "sidebar_border": "#EEEEEE",
    "wrapper_background": "#FFFFFF"
   },
   "moveMenuLeft": true,
   "nav_menu": {
    "height": "12px",
    "width": "252px"
   },
   "navigate_menu": true,
   "number_sections": true,
   "sideBar": true,
   "threshold": 4,
   "toc_cell": false,
   "toc_section_display": "block",
   "toc_window_display": true,
   "widenNotebook": false
  }
 },
 "nbformat": 4,
 "nbformat_minor": 2
}
