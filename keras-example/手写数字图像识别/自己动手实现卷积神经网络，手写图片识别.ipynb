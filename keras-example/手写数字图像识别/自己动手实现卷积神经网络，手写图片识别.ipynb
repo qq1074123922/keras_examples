{
 "cells": [
  {
   "cell_type": "code",
   "execution_count": 27,
   "metadata": {},
   "outputs": [],
   "source": [
    "import pandas as pd\n",
    "import numpy as np\n",
    "\n",
    "from keras.models import Sequential\n",
    "from keras.layers import Dense,Conv2D,Dropout,Flatten,MaxPooling2D\n",
    "from keras.utils import to_categorical"
   ]
  },
  {
   "cell_type": "code",
   "execution_count": 2,
   "metadata": {},
   "outputs": [
    {
     "name": "stdout",
     "output_type": "stream",
     "text": [
      "数据的组成: ['x_test', 'x_train', 'y_train', 'y_test']\n",
      "x_train的大小是 (60000, 28, 28)\n"
     ]
    }
   ],
   "source": [
    "data=np.load('mnist.npz')#读入数据\n",
    "print('数据的组成:',data.files)\n",
    "print('x_train的大小是',data['x_train'].shape)\n",
    "\n",
    "#提取数据\n",
    "x_test=data['x_test']\n",
    "x_train=data['x_train']\n",
    "y_train=data['y_train']\n",
    "y_test=data['y_test']\n"
   ]
  },
  {
   "cell_type": "code",
   "execution_count": 29,
   "metadata": {},
   "outputs": [],
   "source": [
    "#在将数据输入到神经网络进行训练的时候，需要处理一下特征数据和标签数据\n",
    "#根据卷积层对数据进行处理\n",
    "x_train_reshape=x_train.reshape(60000,28,28,1)\n",
    "x_test_reshape=x_test.reshape(x_test.shape[0],28,28,1)\n"
   ]
  },
  {
   "cell_type": "code",
   "execution_count": 30,
   "metadata": {
    "collapsed": true
   },
   "outputs": [],
   "source": [
    "#开始处理标签数据\n",
    "y_train_reshape=to_categorical(num_classes=10,y=y_train)\n",
    "y_test_reshape=to_categorical(num_classes=10,y=y_test)"
   ]
  },
  {
   "cell_type": "code",
   "execution_count": 26,
   "metadata": {},
   "outputs": [
    {
     "data": {
      "text/plain": [
       "(60000, 28, 28, 1)"
      ]
     },
     "execution_count": 26,
     "metadata": {},
     "output_type": "execute_result"
    }
   ],
   "source": []
  },
  {
   "cell_type": "markdown",
   "metadata": {},
   "source": [
    "---"
   ]
  },
  {
   "cell_type": "markdown",
   "metadata": {},
   "source": [
    "开始搭建卷积神经网络(n卷积层+1池化层+n卷积层+1池化层)"
   ]
  },
  {
   "cell_type": "code",
   "execution_count": 21,
   "metadata": {},
   "outputs": [
    {
     "name": "stdout",
     "output_type": "stream",
     "text": [
      "_________________________________________________________________\n",
      "Layer (type)                 Output Shape              Param #   \n",
      "=================================================================\n",
      "conv2d_45 (Conv2D)           (None, 26, 26, 64)        640       \n",
      "_________________________________________________________________\n",
      "dropout_48 (Dropout)         (None, 26, 26, 64)        0         \n",
      "_________________________________________________________________\n",
      "conv2d_46 (Conv2D)           (None, 12, 12, 128)       73856     \n",
      "_________________________________________________________________\n",
      "dropout_49 (Dropout)         (None, 12, 12, 128)       0         \n",
      "_________________________________________________________________\n",
      "max_pooling2d_14 (MaxPooling (None, 4, 4, 128)         0         \n",
      "_________________________________________________________________\n",
      "conv2d_47 (Conv2D)           (None, 1, 1, 64)          73792     \n",
      "_________________________________________________________________\n",
      "dropout_50 (Dropout)         (None, 1, 1, 64)          0         \n",
      "_________________________________________________________________\n",
      "flatten_12 (Flatten)         (None, 64)                0         \n",
      "_________________________________________________________________\n",
      "dense_17 (Dense)             (None, 128)               8320      \n",
      "_________________________________________________________________\n",
      "dropout_51 (Dropout)         (None, 128)               0         \n",
      "_________________________________________________________________\n",
      "dense_18 (Dense)             (None, 64)                8256      \n",
      "_________________________________________________________________\n",
      "dropout_52 (Dropout)         (None, 64)                0         \n",
      "_________________________________________________________________\n",
      "dense_19 (Dense)             (None, 16)                1040      \n",
      "_________________________________________________________________\n",
      "dense_20 (Dense)             (None, 10)                170       \n",
      "=================================================================\n",
      "Total params: 166,074\n",
      "Trainable params: 166,074\n",
      "Non-trainable params: 0\n",
      "_________________________________________________________________\n",
      "None\n"
     ]
    }
   ],
   "source": [
    "model_con=Sequential()\n",
    "\n",
    "model_con.add(Conv2D(activation='relu',filters=64,kernel_size=(3,3),strides=(1,1),input_shape=(28,28,1)))\n",
    "model_con.add(Dropout(rate=0.2))\n",
    "\n",
    "model_con.add(Conv2D(activation='relu',filters=128,kernel_size=(3,3),strides=2))\n",
    "model_con.add(Dropout(rate=0.2))\n",
    "\n",
    "model_con.add(MaxPooling2D(pool_size=(3,3)))\n",
    "\n",
    "model_con.add(Conv2D(activation='relu',filters=64,kernel_size=(3,3),strides=2))\n",
    "model_con.add(Dropout(rate=0.2))\n",
    "\n",
    "\n",
    "model_con.add(Flatten())\n",
    "model_con.add(Dense(activation='relu',units=128))\n",
    "model_con.add(Dropout(rate=0.2))\n",
    "model_con.add(Dense(activation='relu',units=64))\n",
    "model_con.add(Dropout(rate=0.2))\n",
    "model_con.add(Dense(activation='relu',units=16))\n",
    "model_con.add(Dense(activation='softmax',units=10))\n",
    "print(model_con.summary())"
   ]
  },
  {
   "cell_type": "code",
   "execution_count": 22,
   "metadata": {
    "collapsed": true
   },
   "outputs": [],
   "source": [
    "model_con.compile(loss = 'categorical_crossentropy', optimizer = 'adagrad', metrics = ['accuracy'])"
   ]
  },
  {
   "cell_type": "code",
   "execution_count": 31,
   "metadata": {},
   "outputs": [
    {
     "name": "stdout",
     "output_type": "stream",
     "text": [
      "Epoch 1/20\n",
      "60000/60000 [==============================] - 540s - loss: 1.1510 - acc: 0.6754   \n",
      "Epoch 2/20\n",
      "60000/60000 [==============================] - 523s - loss: 0.4393 - acc: 0.8834   \n",
      "Epoch 3/20\n",
      "60000/60000 [==============================] - 554s - loss: 0.3337 - acc: 0.9068   \n",
      "Epoch 4/20\n",
      "60000/60000 [==============================] - 529s - loss: 0.2824 - acc: 0.9233   \n",
      "Epoch 5/20\n",
      "60000/60000 [==============================] - 534s - loss: 0.2527 - acc: 0.9309   \n",
      "Epoch 6/20\n",
      "60000/60000 [==============================] - 533s - loss: 0.2299 - acc: 0.9376   \n",
      "Epoch 7/20\n",
      "60000/60000 [==============================] - 526s - loss: 0.2070 - acc: 0.9447   \n",
      "Epoch 8/20\n",
      "60000/60000 [==============================] - 527s - loss: 0.1900 - acc: 0.9498   \n",
      "Epoch 9/20\n",
      "60000/60000 [==============================] - 524s - loss: 0.1805 - acc: 0.9517   \n",
      "Epoch 10/20\n",
      "60000/60000 [==============================] - 530s - loss: 0.1765 - acc: 0.9532   \n",
      "Epoch 11/20\n",
      "60000/60000 [==============================] - 529s - loss: 0.1657 - acc: 0.9551   \n",
      "Epoch 12/20\n",
      "60000/60000 [==============================] - 534s - loss: 0.1593 - acc: 0.9572   \n",
      "Epoch 13/20\n",
      "60000/60000 [==============================] - 531s - loss: 0.1551 - acc: 0.9584   \n",
      "Epoch 14/20\n",
      "60000/60000 [==============================] - 530s - loss: 0.1498 - acc: 0.9587   \n",
      "Epoch 15/20\n",
      "60000/60000 [==============================] - 536s - loss: 0.1505 - acc: 0.9588   \n",
      "Epoch 16/20\n",
      "60000/60000 [==============================] - 528s - loss: 0.1443 - acc: 0.9601   \n",
      "Epoch 17/20\n",
      "60000/60000 [==============================] - 532s - loss: 0.1414 - acc: 0.9616   \n",
      "Epoch 18/20\n",
      "60000/60000 [==============================] - 519s - loss: 0.1361 - acc: 0.9625   \n",
      "Epoch 19/20\n",
      "60000/60000 [==============================] - 529s - loss: 0.1325 - acc: 0.9634   \n",
      "Epoch 20/20\n",
      "60000/60000 [==============================] - 516s - loss: 0.1348 - acc: 0.9625   \n"
     ]
    },
    {
     "data": {
      "text/plain": [
       "<keras.callbacks.History at 0xf8550f0>"
      ]
     },
     "execution_count": 31,
     "metadata": {},
     "output_type": "execute_result"
    }
   ],
   "source": [
    "model_con.fit(batch_size=200,epochs=20,x=x_train_reshape,y=y_train_reshape)"
   ]
  },
  {
   "cell_type": "code",
   "execution_count": null,
   "metadata": {
    "collapsed": true
   },
   "outputs": [],
   "source": []
  }
 ],
 "metadata": {
  "kernelspec": {
   "display_name": "Python 3",
   "language": "python",
   "name": "python3"
  },
  "language_info": {
   "codemirror_mode": {
    "name": "ipython",
    "version": 3
   },
   "file_extension": ".py",
   "mimetype": "text/x-python",
   "name": "python",
   "nbconvert_exporter": "python",
   "pygments_lexer": "ipython3",
   "version": "3.6.0"
  },
  "toc": {
   "colors": {
    "hover_highlight": "#DAA520",
    "navigate_num": "#000000",
    "navigate_text": "#333333",
    "running_highlight": "#FF0000",
    "selected_highlight": "#FFD700",
    "sidebar_border": "#EEEEEE",
    "wrapper_background": "#FFFFFF"
   },
   "moveMenuLeft": true,
   "nav_menu": {
    "height": "12px",
    "width": "252px"
   },
   "navigate_menu": true,
   "number_sections": true,
   "sideBar": true,
   "threshold": 4,
   "toc_cell": false,
   "toc_section_display": "block",
   "toc_window_display": false,
   "widenNotebook": false
  }
 },
 "nbformat": 4,
 "nbformat_minor": 2
}
