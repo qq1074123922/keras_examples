{
 "cells": [
  {
   "cell_type": "markdown",
   "metadata": {},
   "source": [
    "> 自己搭建一个卷积神经网络实现对手写图片的识别\n",
    "1. 导入数据\n",
    "2. 修改标签数据的格式\n",
    "3. 搭建自己的神经网络\n",
    "4. 编译，训练，测试\n"
   ]
  },
  {
   "cell_type": "code",
   "execution_count": 9,
   "metadata": {
    "collapsed": true
   },
   "outputs": [],
   "source": [
    "import pandas as pd\n",
    "import numpy as np\n",
    "from keras.layers import Dense,Flatten\n",
    "from keras.utils import to_categorical \n",
    "from keras.models import Sequential"
   ]
  },
  {
   "cell_type": "code",
   "execution_count": 2,
   "metadata": {
    "collapsed": true
   },
   "outputs": [],
   "source": [
    "data=np.load('mnist.npz')"
   ]
  },
  {
   "cell_type": "code",
   "execution_count": 3,
   "metadata": {},
   "outputs": [
    {
     "data": {
      "text/plain": [
       "['x_test', 'x_train', 'y_train', 'y_test']"
      ]
     },
     "execution_count": 3,
     "metadata": {},
     "output_type": "execute_result"
    }
   ],
   "source": [
    "#看一下数据的组成\n",
    "data.files"
   ]
  },
  {
   "cell_type": "code",
   "execution_count": 4,
   "metadata": {
    "collapsed": true
   },
   "outputs": [],
   "source": [
    "x_test=data['x_test']\n",
    "x_train=data['x_train']\n",
    "y_train=data['y_train']\n",
    "y_test=data['y_test']"
   ]
  },
  {
   "cell_type": "code",
   "execution_count": 12,
   "metadata": {},
   "outputs": [
    {
     "data": {
      "text/plain": [
       "(60000, 28, 28)"
      ]
     },
     "execution_count": 12,
     "metadata": {},
     "output_type": "execute_result"
    }
   ],
   "source": [
    "x_train.shape"
   ]
  },
  {
   "cell_type": "markdown",
   "metadata": {},
   "source": [
    "简单神经网络，开始进行数据输入的准备，调整数据输入的格式"
   ]
  },
  {
   "cell_type": "code",
   "execution_count": null,
   "metadata": {
    "collapsed": true
   },
   "outputs": [],
   "source": [
    "#根据你采用的神经网络类型来决定采用什么样的数据格式\n",
    "#将数据进行平铺，可以自己手写实现，也可以尝试使用keras中提供平铺层"
   ]
  },
  {
   "cell_type": "code",
   "execution_count": 16,
   "metadata": {
    "collapsed": true
   },
   "outputs": [],
   "source": [
    "#第一层采用平铺层\n",
    "model_simple=Sequential()\n",
    "model_simple.add(Flatten(input_shape=(28,28)))\n",
    "model_simple.add(Dense(activation='relu',units=64))\n",
    "model_simple.add(Dense(activation='relu',units=16))\n",
    "model_simple.add(Dense(activation='softmax',units=10))"
   ]
  },
  {
   "cell_type": "code",
   "execution_count": 17,
   "metadata": {},
   "outputs": [
    {
     "name": "stdout",
     "output_type": "stream",
     "text": [
      "_________________________________________________________________\n",
      "Layer (type)                 Output Shape              Param #   \n",
      "=================================================================\n",
      "flatten_5 (Flatten)          (None, 784)               0         \n",
      "_________________________________________________________________\n",
      "dense_2 (Dense)              (None, 64)                50240     \n",
      "_________________________________________________________________\n",
      "dense_3 (Dense)              (None, 16)                1040      \n",
      "_________________________________________________________________\n",
      "dense_4 (Dense)              (None, 10)                170       \n",
      "=================================================================\n",
      "Total params: 51,450\n",
      "Trainable params: 51,450\n",
      "Non-trainable params: 0\n",
      "_________________________________________________________________\n",
      "None\n"
     ]
    }
   ],
   "source": [
    "print(model_simple.summary())"
   ]
  },
  {
   "cell_type": "code",
   "execution_count": 18,
   "metadata": {
    "collapsed": true
   },
   "outputs": [],
   "source": [
    "model_simple.compile(loss='categorical_crossentropy',metrics=['accuracy'],optimizer='adagrad')"
   ]
  },
  {
   "cell_type": "code",
   "execution_count": 19,
   "metadata": {},
   "outputs": [
    {
     "name": "stdout",
     "output_type": "stream",
     "text": [
      "Epoch 1/20\n",
      "60000/60000 [==============================] - 2s - loss: 7.2242 - acc: 0.5428     \n",
      "Epoch 2/20\n",
      "60000/60000 [==============================] - 2s - loss: 5.3169 - acc: 0.6643     \n",
      "Epoch 3/20\n",
      "60000/60000 [==============================] - 2s - loss: 5.2043 - acc: 0.6718     \n",
      "Epoch 4/20\n",
      "60000/60000 [==============================] - 2s - loss: 5.1181 - acc: 0.6779     \n",
      "Epoch 5/20\n",
      "60000/60000 [==============================] - 2s - loss: 5.0656 - acc: 0.6815     \n",
      "Epoch 6/20\n",
      "60000/60000 [==============================] - 2s - loss: 4.8170 - acc: 0.6952     \n",
      "Epoch 7/20\n",
      "60000/60000 [==============================] - 2s - loss: 2.6912 - acc: 0.8194     \n",
      "Epoch 8/20\n",
      "60000/60000 [==============================] - 2s - loss: 2.3646 - acc: 0.8426     \n",
      "Epoch 9/20\n",
      "60000/60000 [==============================] - 2s - loss: 2.2502 - acc: 0.8506     \n",
      "Epoch 10/20\n",
      "60000/60000 [==============================] - 2s - loss: 2.1962 - acc: 0.8556     \n",
      "Epoch 11/20\n",
      "60000/60000 [==============================] - 3s - loss: 2.1559 - acc: 0.8583     \n",
      "Epoch 12/20\n",
      "60000/60000 [==============================] - 2s - loss: 2.1255 - acc: 0.8606     \n",
      "Epoch 13/20\n",
      "60000/60000 [==============================] - 3s - loss: 2.0858 - acc: 0.8632     \n",
      "Epoch 14/20\n",
      "60000/60000 [==============================] - 2s - loss: 2.0574 - acc: 0.8661     \n",
      "Epoch 15/20\n",
      "60000/60000 [==============================] - 2s - loss: 2.0328 - acc: 0.8679     \n",
      "Epoch 16/20\n",
      "60000/60000 [==============================] - 3s - loss: 2.0136 - acc: 0.8697     \n",
      "Epoch 17/20\n",
      "60000/60000 [==============================] - 2s - loss: 1.9980 - acc: 0.8706     \n",
      "Epoch 18/20\n",
      "60000/60000 [==============================] - 2s - loss: 1.9855 - acc: 0.8714     \n",
      "Epoch 19/20\n",
      "60000/60000 [==============================] - 2s - loss: 1.9718 - acc: 0.8730     \n",
      "Epoch 20/20\n",
      "60000/60000 [==============================] - 2s - loss: 1.9599 - acc: 0.8740     -\n"
     ]
    },
    {
     "data": {
      "text/plain": [
       "<keras.callbacks.History at 0xfe30630>"
      ]
     },
     "execution_count": 19,
     "metadata": {},
     "output_type": "execute_result"
    }
   ],
   "source": [
    "model_simple.fit(batch_size=100,epochs=20,x=x_train,y=to_categorical(y_train))"
   ]
  },
  {
   "cell_type": "code",
   "execution_count": null,
   "metadata": {
    "collapsed": true
   },
   "outputs": [],
   "source": []
  }
 ],
 "metadata": {
  "kernelspec": {
   "display_name": "Python 3",
   "language": "python",
   "name": "python3"
  },
  "language_info": {
   "codemirror_mode": {
    "name": "ipython",
    "version": 3
   },
   "file_extension": ".py",
   "mimetype": "text/x-python",
   "name": "python",
   "nbconvert_exporter": "python",
   "pygments_lexer": "ipython3",
   "version": "3.6.0"
  },
  "toc": {
   "colors": {
    "hover_highlight": "#DAA520",
    "navigate_num": "#000000",
    "navigate_text": "#333333",
    "running_highlight": "#FF0000",
    "selected_highlight": "#FFD700",
    "sidebar_border": "#EEEEEE",
    "wrapper_background": "#FFFFFF"
   },
   "moveMenuLeft": true,
   "nav_menu": {
    "height": "12px",
    "width": "252px"
   },
   "navigate_menu": true,
   "number_sections": true,
   "sideBar": true,
   "threshold": 4,
   "toc_cell": false,
   "toc_section_display": "block",
   "toc_window_display": false,
   "widenNotebook": false
  }
 },
 "nbformat": 4,
 "nbformat_minor": 2
}
